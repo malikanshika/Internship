{
 "cells": [
  {
   "cell_type": "code",
   "execution_count": 109,
   "id": "69b4d8cd",
   "metadata": {},
   "outputs": [],
   "source": [
    "from bs4 import BeautifulSoup\n",
    "import requests"
   ]
  },
  {
   "cell_type": "code",
   "execution_count": 110,
   "id": "9ede92a4",
   "metadata": {},
   "outputs": [],
   "source": [
    "import pandas as pd"
   ]
  },
  {
   "cell_type": "markdown",
   "id": "fb97b5ab",
   "metadata": {},
   "source": [
    "1"
   ]
  },
  {
   "cell_type": "code",
   "execution_count": 49,
   "id": "e61ce0b2",
   "metadata": {},
   "outputs": [],
   "source": [
    "url=\"https://www.amazon.in/\"\n",
    "response=requests.get(url)"
   ]
  },
  {
   "cell_type": "code",
   "execution_count": 50,
   "id": "75ed7adf",
   "metadata": {},
   "outputs": [],
   "source": [
    "soup=BeautifulSoup(response.content,'html.parser')"
   ]
  },
  {
   "cell_type": "code",
   "execution_count": 51,
   "id": "16d6bba1",
   "metadata": {},
   "outputs": [],
   "source": [
    "products=soup.find_all('div',{'data-component-type':'s-search-result'})"
   ]
  },
  {
   "cell_type": "code",
   "execution_count": 52,
   "id": "7bea5abf",
   "metadata": {},
   "outputs": [],
   "source": [
    "for product in products:\n",
    "    title=product.find('span',{'class':'a=size-medium'}).text.strip()"
   ]
  },
  {
   "cell_type": "code",
   "execution_count": 53,
   "id": "459d01de",
   "metadata": {},
   "outputs": [],
   "source": [
    "for product in products:\n",
    "    price=product.find('span',{'class': 'a-price-whole'}).text.strip()"
   ]
  },
  {
   "cell_type": "code",
   "execution_count": 54,
   "id": "0bdd87f8",
   "metadata": {},
   "outputs": [],
   "source": [
    "for product in products:\n",
    "    rating=product.find('span',{'class': 'a-icon-alt'}).text.strip()"
   ]
  },
  {
   "cell_type": "code",
   "execution_count": 55,
   "id": "d38aa661",
   "metadata": {},
   "outputs": [
    {
     "name": "stdout",
     "output_type": "stream",
     "text": [
      "Title:{title}\n",
      "Price:{price}\n",
      "Rating:{rating}\n",
      "---\n"
     ]
    }
   ],
   "source": [
    "print('Title:{title}')\n",
    "print('Price:{price}')\n",
    "print('Rating:{rating}')\n",
    "print('---')"
   ]
  },
  {
   "cell_type": "code",
   "execution_count": null,
   "id": "f25a8813",
   "metadata": {},
   "outputs": [],
   "source": [
    "product=input('enter the product to search:')"
   ]
  },
  {
   "cell_type": "code",
   "execution_count": null,
   "id": "d460c31a",
   "metadata": {},
   "outputs": [],
   "source": [
    "search_product(product)"
   ]
  },
  {
   "cell_type": "markdown",
   "id": "40e2cdc0",
   "metadata": {},
   "source": [
    "3"
   ]
  },
  {
   "cell_type": "code",
   "execution_count": 111,
   "id": "233b2714",
   "metadata": {},
   "outputs": [],
   "source": [
    "import selenium\n",
    "from selenium import webdriver\n",
    "import pandas as pd\n",
    "from selenium.webdriver.chrome.service import service as ChromeService\n",
    "from selenium.webdriver.common.by import By\n",
    "from selenium.webdriver.common.keys import Keys\n",
    "from selenium.webdriver.support.ui import WebDriverWait\n",
    "from selenium.webdriver.support import expected_conditions as EC\n",
    "import warnings\n",
    "warnings.filterwarnings(\"ignore\")\n",
    "import time"
   ]
  },
  {
   "cell_type": "code",
   "execution_count": 74,
   "id": "96dc68f4",
   "metadata": {},
   "outputs": [],
   "source": [
    "driver=webdriver.Chrome()"
   ]
  },
  {
   "cell_type": "code",
   "execution_count": 75,
   "id": "d404b1c1",
   "metadata": {},
   "outputs": [],
   "source": [
    "driver.get('https://images.google.com')"
   ]
  },
  {
   "cell_type": "code",
   "execution_count": 82,
   "id": "9a513213",
   "metadata": {},
   "outputs": [],
   "source": [
    "keywords=['Fruits','Cars','Machine Learning','Guiter','Cakes']\n",
    "\n",
    "for i in keywords:\n",
    "    search_bar=driver.find_element(By.NAME,'q')\n",
    "    search_bar.clear()\n",
    "    search_bar.send_keys(i)\n",
    "    \n",
    "    "
   ]
  },
  {
   "cell_type": "code",
   "execution_count": 83,
   "id": "14705c33",
   "metadata": {},
   "outputs": [],
   "source": [
    "search_bar.send_keys(Keys.RETURN)"
   ]
  },
  {
   "cell_type": "code",
   "execution_count": 89,
   "id": "7d0d4f0b",
   "metadata": {
    "collapsed": true
   },
   "outputs": [
    {
     "ename": "AttributeError",
     "evalue": "'int' object has no attribute 'until'",
     "output_type": "error",
     "traceback": [
      "\u001b[1;31m---------------------------------------------------------------------------\u001b[0m",
      "\u001b[1;31mAttributeError\u001b[0m                            Traceback (most recent call last)",
      "Cell \u001b[1;32mIn[89], line 1\u001b[0m\n\u001b[1;32m----> 1\u001b[0m WebDriverWait(driver,\u001b[38;5;241;43m10\u001b[39;49m\u001b[43m \u001b[49m\u001b[38;5;241;43m.\u001b[39;49m\u001b[43muntil\u001b[49m(EC\u001b[38;5;241m.\u001b[39mpresence_of_element_located(By\u001b[38;5;241m.\u001b[39mCLASS_NAME,\u001b[38;5;124m'\u001b[39m\u001b[38;5;124mrg_i\u001b[39m\u001b[38;5;124m'\u001b[39m)))\n",
      "\u001b[1;31mAttributeError\u001b[0m: 'int' object has no attribute 'until'"
     ]
    }
   ],
   "source": [
    "WebDriverWait(driver,10 .until(EC.presence_of_element_located(By.CLASS_NAME,'rg_i')))"
   ]
  },
  {
   "cell_type": "code",
   "execution_count": null,
   "id": "a7a2d98d",
   "metadata": {},
   "outputs": [],
   "source": []
  },
  {
   "cell_type": "code",
   "execution_count": null,
   "id": "1022f159",
   "metadata": {},
   "outputs": [],
   "source": []
  },
  {
   "cell_type": "code",
   "execution_count": null,
   "id": "5ef95ecb",
   "metadata": {},
   "outputs": [],
   "source": []
  },
  {
   "cell_type": "markdown",
   "id": "451d278a",
   "metadata": {},
   "source": [
    "3"
   ]
  },
  {
   "cell_type": "code",
   "execution_count": 100,
   "id": "d1ad1b46",
   "metadata": {},
   "outputs": [],
   "source": [
    "url=\"https://www.hostelworld.com/hostels/London\"\n",
    "response=requests.get(url)"
   ]
  },
  {
   "cell_type": "code",
   "execution_count": 101,
   "id": "cc9dbdf6",
   "metadata": {},
   "outputs": [],
   "source": [
    "soup=BeautifulSoup(response.content,\"html.parser\")"
   ]
  },
  {
   "cell_type": "code",
   "execution_count": 102,
   "id": "0b11ea4c",
   "metadata": {},
   "outputs": [],
   "source": [
    "hostels=soup.find_all(\"div\",class_=\"fabresult\")"
   ]
  },
  {
   "cell_type": "code",
   "execution_count": 107,
   "id": "b1baeb89",
   "metadata": {},
   "outputs": [],
   "source": [
    "for hostel in hostels:\n",
    "    Name=hostel.find(\"h2\",class_=\"property-name\").text.strip()\n",
    "    distance=hostel.find(\"span\",class_=\"distance\").text.strip()\n",
    "    ratings=hostel.find(\"div\",class_=\"rating\").text.strip()\n",
    "    total_reviews=hostel.find(\"div\",class_=\"overall\").text.strip()\n",
    "    oerall_reviews=hostel.find(\"div\",class_=\"overall\").text.strip()\n",
    "    privates_price=hostel.find(\"div\",class_=\"price=col\").find(\"div\",class_=\"price\").text.strip()\n",
    "    dorms_price=hostel.find(\"div\",class_=\"price-col\").find(\"div\",class_=\"price\").find_next_sibling(\"div\",class_=\"price\").text.strip()\n",
    "    facilities=hostel.find(\"div\",class_=\"facilities\").text.strip()\n",
    "    description=hostel.find(\"div\",class_=\"description\").text.strip()\n",
    "    \n",
    "    \n",
    "    "
   ]
  },
  {
   "cell_type": "code",
   "execution_count": 108,
   "id": "245693e1",
   "metadata": {},
   "outputs": [
    {
     "ename": "NameError",
     "evalue": "name 'Name' is not defined",
     "output_type": "error",
     "traceback": [
      "\u001b[1;31m---------------------------------------------------------------------------\u001b[0m",
      "\u001b[1;31mNameError\u001b[0m                                 Traceback (most recent call last)",
      "Cell \u001b[1;32mIn[108], line 1\u001b[0m\n\u001b[1;32m----> 1\u001b[0m \u001b[38;5;28mprint\u001b[39m(\u001b[38;5;124m\"\u001b[39m\u001b[38;5;124mHostel name:\u001b[39m\u001b[38;5;124m\"\u001b[39m,\u001b[43mName\u001b[49m)\n\u001b[0;32m      2\u001b[0m \u001b[38;5;28mprint\u001b[39m(\u001b[38;5;124m\"\u001b[39m\u001b[38;5;124mDistance from city centre:\u001b[39m\u001b[38;5;124m\"\u001b[39m,distance)\n\u001b[0;32m      3\u001b[0m \u001b[38;5;28mprint\u001b[39m(\u001b[38;5;124m\"\u001b[39m\u001b[38;5;124mRatings:\u001b[39m\u001b[38;5;124m\"\u001b[39m,ratings)\n",
      "\u001b[1;31mNameError\u001b[0m: name 'Name' is not defined"
     ]
    }
   ],
   "source": [
    "print(\"Hostel name:\",Name)\n",
    "print(\"Distance from city centre:\",distance)\n",
    "print(\"Ratings:\",ratings)\n",
    "print(\"Total reviews:\",total_reviews)\n",
    "print(\"Overall:\",overall_reviews)\n",
    "print(\"Privates from price:\",privates_price)\n",
    "print(\"Dorms from Price:\",dorms_price)\n",
    "print(\"Facilities:\",facilities)\n",
    "print(\"Property Description:\",description)\n",
    "print()"
   ]
  },
  {
   "cell_type": "markdown",
   "id": "4bc2bbc6",
   "metadata": {},
   "source": [
    "4"
   ]
  },
  {
   "cell_type": "code",
   "execution_count": 112,
   "id": "f53fde0f",
   "metadata": {},
   "outputs": [],
   "source": [
    "url=\"https://www.forbes.com\"\n",
    "response=requests.get(url)"
   ]
  },
  {
   "cell_type": "code",
   "execution_count": 113,
   "id": "4c4c2716",
   "metadata": {},
   "outputs": [],
   "source": [
    "soup=BeautifulSoup(response.content,\"html.parser\")"
   ]
  },
  {
   "cell_type": "code",
   "execution_count": 114,
   "id": "0be80b7f",
   "metadata": {},
   "outputs": [],
   "source": [
    "table=soup.find(\"table\",class_=\"table\")"
   ]
  },
  {
   "cell_type": "code",
   "execution_count": 116,
   "id": "c7b4ab9c",
   "metadata": {},
   "outputs": [
    {
     "ename": "AttributeError",
     "evalue": "'NoneType' object has no attribute 'find_all'",
     "output_type": "error",
     "traceback": [
      "\u001b[1;31m---------------------------------------------------------------------------\u001b[0m",
      "\u001b[1;31mAttributeError\u001b[0m                            Traceback (most recent call last)",
      "Cell \u001b[1;32mIn[116], line 1\u001b[0m\n\u001b[1;32m----> 1\u001b[0m rows\u001b[38;5;241m=\u001b[39m\u001b[43mtable\u001b[49m\u001b[38;5;241;43m.\u001b[39;49m\u001b[43mfind_all\u001b[49m(\u001b[38;5;124m\"\u001b[39m\u001b[38;5;124mtr\u001b[39m\u001b[38;5;124m\"\u001b[39m)\n",
      "\u001b[1;31mAttributeError\u001b[0m: 'NoneType' object has no attribute 'find_all'"
     ]
    }
   ],
   "source": [
    "rows=table.find_all(\"tr\")"
   ]
  },
  {
   "cell_type": "code",
   "execution_count": 117,
   "id": "572a4819",
   "metadata": {},
   "outputs": [
    {
     "ename": "NameError",
     "evalue": "name 'rows' is not defined",
     "output_type": "error",
     "traceback": [
      "\u001b[1;31m---------------------------------------------------------------------------\u001b[0m",
      "\u001b[1;31mNameError\u001b[0m                                 Traceback (most recent call last)",
      "Cell \u001b[1;32mIn[117], line 1\u001b[0m\n\u001b[1;32m----> 1\u001b[0m \u001b[38;5;28;01mfor\u001b[39;00m row \u001b[38;5;129;01min\u001b[39;00m \u001b[43mrows\u001b[49m:\n\u001b[0;32m      2\u001b[0m     columns\u001b[38;5;241m=\u001b[39mrow\u001b[38;5;241m.\u001b[39mfind_all(\u001b[38;5;124m\"\u001b[39m\u001b[38;5;124mtd\u001b[39m\u001b[38;5;124m\"\u001b[39m)\n\u001b[0;32m      3\u001b[0m     rank\u001b[38;5;241m=\u001b[39mcolumns[\u001b[38;5;241m0\u001b[39m]\u001b[38;5;241m.\u001b[39mtext\u001b[38;5;241m.\u001b[39mstrip()\n",
      "\u001b[1;31mNameError\u001b[0m: name 'rows' is not defined"
     ]
    }
   ],
   "source": [
    "for row in rows:\n",
    "    columns=row.find_all(\"td\")\n",
    "    rank=columns[0].text.strip()\n",
    "    name=columns[1].text.strip()\n",
    "    net_worth=columns[2].text.strip()\n",
    "    age=columns[3].text.strip()\n",
    "    citizenship=columns[4].text.strip()\n",
    "    source=columns[5].text.strip()\n",
    "    industry=columns[6].text.strip()"
   ]
  },
  {
   "cell_type": "markdown",
   "id": "7ba412e6",
   "metadata": {},
   "source": [
    "5"
   ]
  },
  {
   "cell_type": "code",
   "execution_count": 125,
   "id": "eb9f2478",
   "metadata": {},
   "outputs": [
    {
     "ename": "SyntaxError",
     "evalue": "unterminated string literal (detected at line 1) (3052147859.py, line 1)",
     "output_type": "error",
     "traceback": [
      "\u001b[1;36m  Cell \u001b[1;32mIn[125], line 1\u001b[1;36m\u001b[0m\n\u001b[1;33m    video_url=\"https://www.youtube.com/\u001b[0m\n\u001b[1;37m              ^\u001b[0m\n\u001b[1;31mSyntaxError\u001b[0m\u001b[1;31m:\u001b[0m unterminated string literal (detected at line 1)\n"
     ]
    }
   ],
   "source": [
    "video_url=\"https://www.youtube.com/"
   ]
  },
  {
   "cell_type": "code",
   "execution_count": 123,
   "id": "9fc82f52",
   "metadata": {},
   "outputs": [
    {
     "ename": "NoSuchWindowException",
     "evalue": "Message: no such window: target window already closed\nfrom unknown error: web view not found\n  (Session info: chrome=119.0.6045.124)\nStacktrace:\n\tGetHandleVerifier [0x00007FF7231A82B2+55298]\n\t(No symbol) [0x00007FF723115E02]\n\t(No symbol) [0x00007FF722FD05AB]\n\t(No symbol) [0x00007FF722FB0038]\n\t(No symbol) [0x00007FF723036BC7]\n\t(No symbol) [0x00007FF72304A15F]\n\t(No symbol) [0x00007FF723031E83]\n\t(No symbol) [0x00007FF72300670A]\n\t(No symbol) [0x00007FF723007964]\n\tGetHandleVerifier [0x00007FF723520AAB+3694587]\n\tGetHandleVerifier [0x00007FF72357728E+4048862]\n\tGetHandleVerifier [0x00007FF72356F173+4015811]\n\tGetHandleVerifier [0x00007FF7232447D6+695590]\n\t(No symbol) [0x00007FF723120CE8]\n\t(No symbol) [0x00007FF72311CF34]\n\t(No symbol) [0x00007FF72311D062]\n\t(No symbol) [0x00007FF72310D3A3]\n\tBaseThreadInitThunk [0x00007FFB47EB257D+29]\n\tRtlUserThreadStart [0x00007FFB4A10AA58+40]\n",
     "output_type": "error",
     "traceback": [
      "\u001b[1;31m---------------------------------------------------------------------------\u001b[0m",
      "\u001b[1;31mNoSuchWindowException\u001b[0m                     Traceback (most recent call last)",
      "Cell \u001b[1;32mIn[123], line 1\u001b[0m\n\u001b[1;32m----> 1\u001b[0m \u001b[43mdriver\u001b[49m\u001b[38;5;241;43m.\u001b[39;49m\u001b[43mget\u001b[49m\u001b[43m(\u001b[49m\u001b[43mvideo_url\u001b[49m\u001b[43m)\u001b[49m\n",
      "File \u001b[1;32m~\\anaconda3\\lib\\site-packages\\selenium\\webdriver\\remote\\webdriver.py:355\u001b[0m, in \u001b[0;36mWebDriver.get\u001b[1;34m(self, url)\u001b[0m\n\u001b[0;32m    353\u001b[0m \u001b[38;5;28;01mdef\u001b[39;00m \u001b[38;5;21mget\u001b[39m(\u001b[38;5;28mself\u001b[39m, url: \u001b[38;5;28mstr\u001b[39m) \u001b[38;5;241m-\u001b[39m\u001b[38;5;241m>\u001b[39m \u001b[38;5;28;01mNone\u001b[39;00m:\n\u001b[0;32m    354\u001b[0m     \u001b[38;5;124;03m\"\"\"Loads a web page in the current browser session.\"\"\"\u001b[39;00m\n\u001b[1;32m--> 355\u001b[0m     \u001b[38;5;28;43mself\u001b[39;49m\u001b[38;5;241;43m.\u001b[39;49m\u001b[43mexecute\u001b[49m\u001b[43m(\u001b[49m\u001b[43mCommand\u001b[49m\u001b[38;5;241;43m.\u001b[39;49m\u001b[43mGET\u001b[49m\u001b[43m,\u001b[49m\u001b[43m \u001b[49m\u001b[43m{\u001b[49m\u001b[38;5;124;43m\"\u001b[39;49m\u001b[38;5;124;43murl\u001b[39;49m\u001b[38;5;124;43m\"\u001b[39;49m\u001b[43m:\u001b[49m\u001b[43m \u001b[49m\u001b[43murl\u001b[49m\u001b[43m}\u001b[49m\u001b[43m)\u001b[49m\n",
      "File \u001b[1;32m~\\anaconda3\\lib\\site-packages\\selenium\\webdriver\\remote\\webdriver.py:346\u001b[0m, in \u001b[0;36mWebDriver.execute\u001b[1;34m(self, driver_command, params)\u001b[0m\n\u001b[0;32m    344\u001b[0m response \u001b[38;5;241m=\u001b[39m \u001b[38;5;28mself\u001b[39m\u001b[38;5;241m.\u001b[39mcommand_executor\u001b[38;5;241m.\u001b[39mexecute(driver_command, params)\n\u001b[0;32m    345\u001b[0m \u001b[38;5;28;01mif\u001b[39;00m response:\n\u001b[1;32m--> 346\u001b[0m     \u001b[38;5;28;43mself\u001b[39;49m\u001b[38;5;241;43m.\u001b[39;49m\u001b[43merror_handler\u001b[49m\u001b[38;5;241;43m.\u001b[39;49m\u001b[43mcheck_response\u001b[49m\u001b[43m(\u001b[49m\u001b[43mresponse\u001b[49m\u001b[43m)\u001b[49m\n\u001b[0;32m    347\u001b[0m     response[\u001b[38;5;124m\"\u001b[39m\u001b[38;5;124mvalue\u001b[39m\u001b[38;5;124m\"\u001b[39m] \u001b[38;5;241m=\u001b[39m \u001b[38;5;28mself\u001b[39m\u001b[38;5;241m.\u001b[39m_unwrap_value(response\u001b[38;5;241m.\u001b[39mget(\u001b[38;5;124m\"\u001b[39m\u001b[38;5;124mvalue\u001b[39m\u001b[38;5;124m\"\u001b[39m, \u001b[38;5;28;01mNone\u001b[39;00m))\n\u001b[0;32m    348\u001b[0m     \u001b[38;5;28;01mreturn\u001b[39;00m response\n",
      "File \u001b[1;32m~\\anaconda3\\lib\\site-packages\\selenium\\webdriver\\remote\\errorhandler.py:229\u001b[0m, in \u001b[0;36mErrorHandler.check_response\u001b[1;34m(self, response)\u001b[0m\n\u001b[0;32m    227\u001b[0m         alert_text \u001b[38;5;241m=\u001b[39m value[\u001b[38;5;124m\"\u001b[39m\u001b[38;5;124malert\u001b[39m\u001b[38;5;124m\"\u001b[39m]\u001b[38;5;241m.\u001b[39mget(\u001b[38;5;124m\"\u001b[39m\u001b[38;5;124mtext\u001b[39m\u001b[38;5;124m\"\u001b[39m)\n\u001b[0;32m    228\u001b[0m     \u001b[38;5;28;01mraise\u001b[39;00m exception_class(message, screen, stacktrace, alert_text)  \u001b[38;5;66;03m# type: ignore[call-arg]  # mypy is not smart enough here\u001b[39;00m\n\u001b[1;32m--> 229\u001b[0m \u001b[38;5;28;01mraise\u001b[39;00m exception_class(message, screen, stacktrace)\n",
      "\u001b[1;31mNoSuchWindowException\u001b[0m: Message: no such window: target window already closed\nfrom unknown error: web view not found\n  (Session info: chrome=119.0.6045.124)\nStacktrace:\n\tGetHandleVerifier [0x00007FF7231A82B2+55298]\n\t(No symbol) [0x00007FF723115E02]\n\t(No symbol) [0x00007FF722FD05AB]\n\t(No symbol) [0x00007FF722FB0038]\n\t(No symbol) [0x00007FF723036BC7]\n\t(No symbol) [0x00007FF72304A15F]\n\t(No symbol) [0x00007FF723031E83]\n\t(No symbol) [0x00007FF72300670A]\n\t(No symbol) [0x00007FF723007964]\n\tGetHandleVerifier [0x00007FF723520AAB+3694587]\n\tGetHandleVerifier [0x00007FF72357728E+4048862]\n\tGetHandleVerifier [0x00007FF72356F173+4015811]\n\tGetHandleVerifier [0x00007FF7232447D6+695590]\n\t(No symbol) [0x00007FF723120CE8]\n\t(No symbol) [0x00007FF72311CF34]\n\t(No symbol) [0x00007FF72311D062]\n\t(No symbol) [0x00007FF72310D3A3]\n\tBaseThreadInitThunk [0x00007FFB47EB257D+29]\n\tRtlUserThreadStart [0x00007FFB4A10AA58+40]\n"
     ]
    }
   ],
   "source": [
    "driver.get(video_url)"
   ]
  },
  {
   "cell_type": "markdown",
   "id": "b6a006a6",
   "metadata": {},
   "source": [
    "6"
   ]
  },
  {
   "cell_type": "code",
   "execution_count": 127,
   "id": "c33f4c89",
   "metadata": {},
   "outputs": [],
   "source": [
    "import requests\n",
    "from bs4 import BeautifulSoup"
   ]
  },
  {
   "cell_type": "code",
   "execution_count": 128,
   "id": "eef36e7d",
   "metadata": {},
   "outputs": [],
   "source": [
    "def get_coordinates(city):\n",
    "    formatted_city=city.replace(\"\",\"+\")\n",
    "    "
   ]
  },
  {
   "cell_type": "code",
   "execution_count": 129,
   "id": "c132d888",
   "metadata": {},
   "outputs": [
    {
     "ename": "NameError",
     "evalue": "name 'formatted_city' is not defined",
     "output_type": "error",
     "traceback": [
      "\u001b[1;31m---------------------------------------------------------------------------\u001b[0m",
      "\u001b[1;31mNameError\u001b[0m                                 Traceback (most recent call last)",
      "Cell \u001b[1;32mIn[129], line 1\u001b[0m\n\u001b[1;32m----> 1\u001b[0m url\u001b[38;5;241m=\u001b[39m\u001b[38;5;124mf\u001b[39m\u001b[38;5;124m\"\u001b[39m\u001b[38;5;124mhttps://www.google.com/maps/search/\u001b[39m\u001b[38;5;132;01m{\u001b[39;00mformatted_city\u001b[38;5;132;01m}\u001b[39;00m\u001b[38;5;124m\"\u001b[39m\n\u001b[0;32m      2\u001b[0m response\u001b[38;5;241m=\u001b[39mrequests\u001b[38;5;241m.\u001b[39mget(url)\n",
      "\u001b[1;31mNameError\u001b[0m: name 'formatted_city' is not defined"
     ]
    }
   ],
   "source": [
    "url=f\"https://www.google.com/maps/search/{formatted_city}\"\n",
    "response=requests.get(url)\n"
   ]
  },
  {
   "cell_type": "code",
   "execution_count": null,
   "id": "385ffa5d",
   "metadata": {},
   "outputs": [],
   "source": []
  }
 ],
 "metadata": {
  "kernelspec": {
   "display_name": "Python 3 (ipykernel)",
   "language": "python",
   "name": "python3"
  },
  "language_info": {
   "codemirror_mode": {
    "name": "ipython",
    "version": 3
   },
   "file_extension": ".py",
   "mimetype": "text/x-python",
   "name": "python",
   "nbconvert_exporter": "python",
   "pygments_lexer": "ipython3",
   "version": "3.10.9"
  }
 },
 "nbformat": 4,
 "nbformat_minor": 5
}
