{
 "cells": [
  {
   "cell_type": "code",
   "execution_count": 19,
   "id": "015181d8",
   "metadata": {},
   "outputs": [
    {
     "name": "stdout",
     "output_type": "stream",
     "text": [
      "Requirement already satisfied: Selenium in c:\\users\\hp\\anaconda3\\lib\\site-packages (4.15.1)\n",
      "Requirement already satisfied: trio-websocket~=0.9 in c:\\users\\hp\\anaconda3\\lib\\site-packages (from Selenium) (0.11.1)\n",
      "Requirement already satisfied: trio~=0.17 in c:\\users\\hp\\anaconda3\\lib\\site-packages (from Selenium) (0.22.2)\n",
      "Requirement already satisfied: certifi>=2021.10.8 in c:\\users\\hp\\anaconda3\\lib\\site-packages (from Selenium) (2022.12.7)\n",
      "Requirement already satisfied: urllib3[socks]<3,>=1.26 in c:\\users\\hp\\anaconda3\\lib\\site-packages (from Selenium) (1.26.14)\n",
      "Requirement already satisfied: outcome in c:\\users\\hp\\anaconda3\\lib\\site-packages (from trio~=0.17->Selenium) (1.3.0.post0)\n",
      "Requirement already satisfied: sortedcontainers in c:\\users\\hp\\anaconda3\\lib\\site-packages (from trio~=0.17->Selenium) (2.4.0)\n",
      "Requirement already satisfied: attrs>=20.1.0 in c:\\users\\hp\\anaconda3\\lib\\site-packages (from trio~=0.17->Selenium) (22.1.0)\n",
      "Requirement already satisfied: exceptiongroup>=1.0.0rc9 in c:\\users\\hp\\anaconda3\\lib\\site-packages (from trio~=0.17->Selenium) (1.1.3)\n",
      "Requirement already satisfied: idna in c:\\users\\hp\\anaconda3\\lib\\site-packages (from trio~=0.17->Selenium) (3.4)\n",
      "Requirement already satisfied: cffi>=1.14 in c:\\users\\hp\\anaconda3\\lib\\site-packages (from trio~=0.17->Selenium) (1.15.1)\n",
      "Requirement already satisfied: sniffio in c:\\users\\hp\\anaconda3\\lib\\site-packages (from trio~=0.17->Selenium) (1.2.0)\n",
      "Requirement already satisfied: wsproto>=0.14 in c:\\users\\hp\\anaconda3\\lib\\site-packages (from trio-websocket~=0.9->Selenium) (1.2.0)\n",
      "Requirement already satisfied: PySocks!=1.5.7,<2.0,>=1.5.6 in c:\\users\\hp\\anaconda3\\lib\\site-packages (from urllib3[socks]<3,>=1.26->Selenium) (1.7.1)\n",
      "Requirement already satisfied: pycparser in c:\\users\\hp\\anaconda3\\lib\\site-packages (from cffi>=1.14->trio~=0.17->Selenium) (2.21)\n",
      "Requirement already satisfied: h11<1,>=0.9.0 in c:\\users\\hp\\anaconda3\\lib\\site-packages (from wsproto>=0.14->trio-websocket~=0.9->Selenium) (0.14.0)\n"
     ]
    }
   ],
   "source": [
    "!pip install Selenium"
   ]
  },
  {
   "cell_type": "code",
   "execution_count": 357,
   "id": "49b86323",
   "metadata": {},
   "outputs": [],
   "source": [
    "import selenium\n",
    "from selenium import webdriver\n",
    "import pandas as pd\n",
    "from selenium.webdriver.chrome.service import service as ChromeService\n",
    "from selenium.webdriver.common.by import By\n",
    "import warnings\n",
    "warnings.filterwarnings(\"ignore\")\n",
    "import time"
   ]
  },
  {
   "cell_type": "code",
   "execution_count": 358,
   "id": "22a4af42",
   "metadata": {},
   "outputs": [],
   "source": [
    "driver=webdriver.Chrome()"
   ]
  },
  {
   "cell_type": "code",
   "execution_count": 14,
   "id": "08459d22",
   "metadata": {},
   "outputs": [
    {
     "data": {
      "text/plain": [
       "'4.15.1'"
      ]
     },
     "execution_count": 14,
     "metadata": {},
     "output_type": "execute_result"
    }
   ],
   "source": [
    "selenium.__version__"
   ]
  },
  {
   "cell_type": "markdown",
   "id": "d262a642",
   "metadata": {},
   "source": [
    "1"
   ]
  },
  {
   "cell_type": "code",
   "execution_count": 137,
   "id": "4dc35a5a",
   "metadata": {},
   "outputs": [],
   "source": [
    "driver.get(\"https://www.shine.com/\")"
   ]
  },
  {
   "cell_type": "code",
   "execution_count": 139,
   "id": "6b663676",
   "metadata": {},
   "outputs": [],
   "source": [
    "designation=driver.find_element(By.CLASS_NAME,\"form-control\")\n",
    "designation.send_keys(\"Data Analyst\")"
   ]
  },
  {
   "cell_type": "code",
   "execution_count": 140,
   "id": "2b634d53",
   "metadata": {},
   "outputs": [],
   "source": [
    "location=driver.find_element(By.XPATH,\"/html/body/div/div[4]/div/div[2]/div[2]/div/form/div/div[1]/ul/li[2]/div/input\")\n",
    "location.send_keys('Bangalore')"
   ]
  },
  {
   "cell_type": "code",
   "execution_count": 143,
   "id": "49c40df8",
   "metadata": {},
   "outputs": [],
   "source": [
    "search=driver.find_element(By.CLASS_NAME,\"searchForm_btnWrap_advance__VYBHN\")\n",
    "search.click()"
   ]
  },
  {
   "cell_type": "code",
   "execution_count": 144,
   "id": "91f095b4",
   "metadata": {},
   "outputs": [],
   "source": [
    "job_title=[]\n",
    "job_location=[]\n",
    "company_name=[]\n",
    "experience_required=[]"
   ]
  },
  {
   "cell_type": "code",
   "execution_count": 145,
   "id": "21139403",
   "metadata": {},
   "outputs": [],
   "source": [
    "title_tags=driver.find_elements(By.XPATH,'//h2[@itemprop=\"name\"]/a')\n",
    "for i in title_tags:\n",
    "    title=i.text\n",
    "    job_title.append(title)"
   ]
  },
  {
   "cell_type": "code",
   "execution_count": null,
   "id": "fd308231",
   "metadata": {},
   "outputs": [],
   "source": []
  },
  {
   "cell_type": "code",
   "execution_count": 146,
   "id": "1c3d3fc9",
   "metadata": {},
   "outputs": [],
   "source": [
    "location_tags=driver.find_elements(By.XPATH,'//div[@class=\" jobCard_jobCard_lists_item__YxRkV jobCard_locationIcon__zrWt2\"]')\n",
    "for i in location_tags:\n",
    "    location=i.text\n",
    "    job_location.append(location)\n"
   ]
  },
  {
   "cell_type": "code",
   "execution_count": 147,
   "id": "6b3fe968",
   "metadata": {},
   "outputs": [],
   "source": [
    "company_tags=driver.find_elements(By.XPATH,'//div[@class=\"jobCard_jobCard_cName__mYnow\"]')\n",
    "for i in company_tags:\n",
    "    company=i.text\n",
    "    company_name.append(company)"
   ]
  },
  {
   "cell_type": "code",
   "execution_count": 148,
   "id": "145393e9",
   "metadata": {},
   "outputs": [],
   "source": [
    "experience_tags=driver.find_elements(By.XPATH,'//div[@class=\" jobCard_jobCard_lists_item__YxRkV jobCard_jobIcon__3FB1t\"]')\n",
    "for i in experience_tags:\n",
    "    exp=i.text\n",
    "    experience_required.append(exp)\n"
   ]
  },
  {
   "cell_type": "code",
   "execution_count": 149,
   "id": "b458a03d",
   "metadata": {},
   "outputs": [
    {
     "name": "stdout",
     "output_type": "stream",
     "text": [
      "20 20 20 20\n"
     ]
    }
   ],
   "source": [
    "print(len(job_title),len(job_location),len(company_name),len(experience_required))"
   ]
  },
  {
   "cell_type": "code",
   "execution_count": null,
   "id": "0fd224c8",
   "metadata": {},
   "outputs": [],
   "source": []
  },
  {
   "cell_type": "code",
   "execution_count": 150,
   "id": "b134995a",
   "metadata": {},
   "outputs": [
    {
     "data": {
      "text/html": [
       "<div>\n",
       "<style scoped>\n",
       "    .dataframe tbody tr th:only-of-type {\n",
       "        vertical-align: middle;\n",
       "    }\n",
       "\n",
       "    .dataframe tbody tr th {\n",
       "        vertical-align: top;\n",
       "    }\n",
       "\n",
       "    .dataframe thead th {\n",
       "        text-align: right;\n",
       "    }\n",
       "</style>\n",
       "<table border=\"1\" class=\"dataframe\">\n",
       "  <thead>\n",
       "    <tr style=\"text-align: right;\">\n",
       "      <th></th>\n",
       "      <th>Title</th>\n",
       "      <th>Location</th>\n",
       "      <th>Company_name</th>\n",
       "      <th>Experience</th>\n",
       "    </tr>\n",
       "  </thead>\n",
       "  <tbody>\n",
       "    <tr>\n",
       "      <th>0</th>\n",
       "      <td>Data Analyst Vacancy</td>\n",
       "      <td>Bangalore\\n+14</td>\n",
       "      <td>divya interprises</td>\n",
       "      <td>0 to 4 Yrs</td>\n",
       "    </tr>\n",
       "    <tr>\n",
       "      <th>1</th>\n",
       "      <td>Data Analyst Vacancy</td>\n",
       "      <td>Bangalore\\n+14</td>\n",
       "      <td>divya interprises</td>\n",
       "      <td>0 to 4 Yrs</td>\n",
       "    </tr>\n",
       "    <tr>\n",
       "      <th>2</th>\n",
       "      <td>Clinical Data Analyst</td>\n",
       "      <td>Bangalore\\n+4</td>\n",
       "      <td>quiscon biotech</td>\n",
       "      <td>0 to 2 Yrs</td>\n",
       "    </tr>\n",
       "    <tr>\n",
       "      <th>3</th>\n",
       "      <td>Data Analyst Urgent Recruitment</td>\n",
       "      <td>Bangalore\\n+14</td>\n",
       "      <td>divya interprises</td>\n",
       "      <td>0 to 4 Yrs</td>\n",
       "    </tr>\n",
       "    <tr>\n",
       "      <th>4</th>\n",
       "      <td>Data Analyst Urgent Recruitment</td>\n",
       "      <td>Bangalore\\n+14</td>\n",
       "      <td>divya interprises</td>\n",
       "      <td>0 to 4 Yrs</td>\n",
       "    </tr>\n",
       "    <tr>\n",
       "      <th>5</th>\n",
       "      <td>Data Analyst Urgent Recruitment</td>\n",
       "      <td>Bangalore\\n+14</td>\n",
       "      <td>divya interprises</td>\n",
       "      <td>0 to 4 Yrs</td>\n",
       "    </tr>\n",
       "    <tr>\n",
       "      <th>6</th>\n",
       "      <td>Data Analyst 1</td>\n",
       "      <td>Bangalore</td>\n",
       "      <td>merck ltd</td>\n",
       "      <td>1 to 3 Yrs</td>\n",
       "    </tr>\n",
       "    <tr>\n",
       "      <th>7</th>\n",
       "      <td>Clinical Data Analyst</td>\n",
       "      <td>Bangalore\\n+6</td>\n",
       "      <td>techno endura</td>\n",
       "      <td>0 to 1 Yr</td>\n",
       "    </tr>\n",
       "    <tr>\n",
       "      <th>8</th>\n",
       "      <td>Hiring For Data Analyst</td>\n",
       "      <td>Bangalore\\n+14</td>\n",
       "      <td>divya interprises</td>\n",
       "      <td>0 to 4 Yrs</td>\n",
       "    </tr>\n",
       "    <tr>\n",
       "      <th>9</th>\n",
       "      <td>Data Analyst</td>\n",
       "      <td>Bangalore\\n+9</td>\n",
       "      <td>v-tech data outsourcing</td>\n",
       "      <td>0 to 2 Yrs</td>\n",
       "    </tr>\n",
       "    <tr>\n",
       "      <th>10</th>\n",
       "      <td>Data Analyst</td>\n",
       "      <td>Bangalore</td>\n",
       "      <td>deuglo infosystem private limited</td>\n",
       "      <td>1 to 2 Yrs</td>\n",
       "    </tr>\n",
       "    <tr>\n",
       "      <th>11</th>\n",
       "      <td>Apply Now a Data Analyst</td>\n",
       "      <td>Bangalore</td>\n",
       "      <td>deuglo infosystem private limited</td>\n",
       "      <td>1 to 2 Yrs</td>\n",
       "    </tr>\n",
       "    <tr>\n",
       "      <th>12</th>\n",
       "      <td>Urgently need a Data Analyst</td>\n",
       "      <td>Bangalore</td>\n",
       "      <td>deuglo infosystem private limited</td>\n",
       "      <td>1 to 2 Yrs</td>\n",
       "    </tr>\n",
       "    <tr>\n",
       "      <th>13</th>\n",
       "      <td>Data Analyst (Google Cloud - Big Query 6-10 yrs)</td>\n",
       "      <td>Bangalore</td>\n",
       "      <td>cisco systems, inc.</td>\n",
       "      <td>5 to 10 Yrs</td>\n",
       "    </tr>\n",
       "    <tr>\n",
       "      <th>14</th>\n",
       "      <td>Data Analyst- HR</td>\n",
       "      <td>Bangalore</td>\n",
       "      <td>paytm</td>\n",
       "      <td>2 to 4 Yrs</td>\n",
       "    </tr>\n",
       "    <tr>\n",
       "      <th>15</th>\n",
       "      <td>Tax Analyst, Data</td>\n",
       "      <td>Bangalore</td>\n",
       "      <td>dell</td>\n",
       "      <td>3 to 5 Yrs</td>\n",
       "    </tr>\n",
       "    <tr>\n",
       "      <th>16</th>\n",
       "      <td>Data Science - Analyst</td>\n",
       "      <td>Bangalore</td>\n",
       "      <td>jpmorgan</td>\n",
       "      <td>3 to 5 Yrs</td>\n",
       "    </tr>\n",
       "    <tr>\n",
       "      <th>17</th>\n",
       "      <td>Sr Data Engineer - Python /GCP/Snowflake | 8+ ...</td>\n",
       "      <td>Bangalore</td>\n",
       "      <td>cisco systems, inc.</td>\n",
       "      <td>7 to 9 Yrs</td>\n",
       "    </tr>\n",
       "    <tr>\n",
       "      <th>18</th>\n",
       "      <td>Data Analyst</td>\n",
       "      <td>Bangalore</td>\n",
       "      <td>schneider electric</td>\n",
       "      <td>2 to 3 Yrs</td>\n",
       "    </tr>\n",
       "    <tr>\n",
       "      <th>19</th>\n",
       "      <td>Data Analyst</td>\n",
       "      <td>Bangalore</td>\n",
       "      <td>ntt limited</td>\n",
       "      <td>5 to 7 Yrs</td>\n",
       "    </tr>\n",
       "  </tbody>\n",
       "</table>\n",
       "</div>"
      ],
      "text/plain": [
       "                                                Title        Location  \\\n",
       "0                                Data Analyst Vacancy  Bangalore\\n+14   \n",
       "1                                Data Analyst Vacancy  Bangalore\\n+14   \n",
       "2                               Clinical Data Analyst   Bangalore\\n+4   \n",
       "3                     Data Analyst Urgent Recruitment  Bangalore\\n+14   \n",
       "4                     Data Analyst Urgent Recruitment  Bangalore\\n+14   \n",
       "5                     Data Analyst Urgent Recruitment  Bangalore\\n+14   \n",
       "6                                      Data Analyst 1       Bangalore   \n",
       "7                               Clinical Data Analyst   Bangalore\\n+6   \n",
       "8                             Hiring For Data Analyst  Bangalore\\n+14   \n",
       "9                                        Data Analyst   Bangalore\\n+9   \n",
       "10                                       Data Analyst       Bangalore   \n",
       "11                           Apply Now a Data Analyst       Bangalore   \n",
       "12                       Urgently need a Data Analyst       Bangalore   \n",
       "13   Data Analyst (Google Cloud - Big Query 6-10 yrs)       Bangalore   \n",
       "14                                   Data Analyst- HR       Bangalore   \n",
       "15                                  Tax Analyst, Data       Bangalore   \n",
       "16                             Data Science - Analyst       Bangalore   \n",
       "17  Sr Data Engineer - Python /GCP/Snowflake | 8+ ...       Bangalore   \n",
       "18                                       Data Analyst       Bangalore   \n",
       "19                                       Data Analyst       Bangalore   \n",
       "\n",
       "                         Company_name   Experience  \n",
       "0                   divya interprises   0 to 4 Yrs  \n",
       "1                   divya interprises   0 to 4 Yrs  \n",
       "2                     quiscon biotech   0 to 2 Yrs  \n",
       "3                   divya interprises   0 to 4 Yrs  \n",
       "4                   divya interprises   0 to 4 Yrs  \n",
       "5                   divya interprises   0 to 4 Yrs  \n",
       "6                           merck ltd   1 to 3 Yrs  \n",
       "7                       techno endura    0 to 1 Yr  \n",
       "8                   divya interprises   0 to 4 Yrs  \n",
       "9             v-tech data outsourcing   0 to 2 Yrs  \n",
       "10  deuglo infosystem private limited   1 to 2 Yrs  \n",
       "11  deuglo infosystem private limited   1 to 2 Yrs  \n",
       "12  deuglo infosystem private limited   1 to 2 Yrs  \n",
       "13                cisco systems, inc.  5 to 10 Yrs  \n",
       "14                              paytm   2 to 4 Yrs  \n",
       "15                               dell   3 to 5 Yrs  \n",
       "16                           jpmorgan   3 to 5 Yrs  \n",
       "17                cisco systems, inc.   7 to 9 Yrs  \n",
       "18                 schneider electric   2 to 3 Yrs  \n",
       "19                        ntt limited   5 to 7 Yrs  "
      ]
     },
     "execution_count": 150,
     "metadata": {},
     "output_type": "execute_result"
    }
   ],
   "source": [
    "import pandas as pd\n",
    "df=pd.DataFrame({'Title':job_title,'Location':job_location,'Company_name':company_name,'Experience':experience_required})\n",
    "df"
   ]
  },
  {
   "cell_type": "code",
   "execution_count": 151,
   "id": "2754ecda",
   "metadata": {},
   "outputs": [
    {
     "data": {
      "text/html": [
       "<div>\n",
       "<style scoped>\n",
       "    .dataframe tbody tr th:only-of-type {\n",
       "        vertical-align: middle;\n",
       "    }\n",
       "\n",
       "    .dataframe tbody tr th {\n",
       "        vertical-align: top;\n",
       "    }\n",
       "\n",
       "    .dataframe thead th {\n",
       "        text-align: right;\n",
       "    }\n",
       "</style>\n",
       "<table border=\"1\" class=\"dataframe\">\n",
       "  <thead>\n",
       "    <tr style=\"text-align: right;\">\n",
       "      <th></th>\n",
       "      <th>Title</th>\n",
       "      <th>Location</th>\n",
       "      <th>Company_name</th>\n",
       "      <th>Experience</th>\n",
       "    </tr>\n",
       "  </thead>\n",
       "  <tbody>\n",
       "    <tr>\n",
       "      <th>0</th>\n",
       "      <td>Data Analyst Vacancy</td>\n",
       "      <td>Bangalore\\n+14</td>\n",
       "      <td>divya interprises</td>\n",
       "      <td>0 to 4 Yrs</td>\n",
       "    </tr>\n",
       "    <tr>\n",
       "      <th>1</th>\n",
       "      <td>Data Analyst Vacancy</td>\n",
       "      <td>Bangalore\\n+14</td>\n",
       "      <td>divya interprises</td>\n",
       "      <td>0 to 4 Yrs</td>\n",
       "    </tr>\n",
       "    <tr>\n",
       "      <th>2</th>\n",
       "      <td>Clinical Data Analyst</td>\n",
       "      <td>Bangalore\\n+4</td>\n",
       "      <td>quiscon biotech</td>\n",
       "      <td>0 to 2 Yrs</td>\n",
       "    </tr>\n",
       "    <tr>\n",
       "      <th>3</th>\n",
       "      <td>Data Analyst Urgent Recruitment</td>\n",
       "      <td>Bangalore\\n+14</td>\n",
       "      <td>divya interprises</td>\n",
       "      <td>0 to 4 Yrs</td>\n",
       "    </tr>\n",
       "    <tr>\n",
       "      <th>4</th>\n",
       "      <td>Data Analyst Urgent Recruitment</td>\n",
       "      <td>Bangalore\\n+14</td>\n",
       "      <td>divya interprises</td>\n",
       "      <td>0 to 4 Yrs</td>\n",
       "    </tr>\n",
       "    <tr>\n",
       "      <th>5</th>\n",
       "      <td>Data Analyst Urgent Recruitment</td>\n",
       "      <td>Bangalore\\n+14</td>\n",
       "      <td>divya interprises</td>\n",
       "      <td>0 to 4 Yrs</td>\n",
       "    </tr>\n",
       "    <tr>\n",
       "      <th>6</th>\n",
       "      <td>Data Analyst 1</td>\n",
       "      <td>Bangalore</td>\n",
       "      <td>merck ltd</td>\n",
       "      <td>1 to 3 Yrs</td>\n",
       "    </tr>\n",
       "    <tr>\n",
       "      <th>7</th>\n",
       "      <td>Clinical Data Analyst</td>\n",
       "      <td>Bangalore\\n+6</td>\n",
       "      <td>techno endura</td>\n",
       "      <td>0 to 1 Yr</td>\n",
       "    </tr>\n",
       "    <tr>\n",
       "      <th>8</th>\n",
       "      <td>Hiring For Data Analyst</td>\n",
       "      <td>Bangalore\\n+14</td>\n",
       "      <td>divya interprises</td>\n",
       "      <td>0 to 4 Yrs</td>\n",
       "    </tr>\n",
       "    <tr>\n",
       "      <th>9</th>\n",
       "      <td>Data Analyst</td>\n",
       "      <td>Bangalore\\n+9</td>\n",
       "      <td>v-tech data outsourcing</td>\n",
       "      <td>0 to 2 Yrs</td>\n",
       "    </tr>\n",
       "  </tbody>\n",
       "</table>\n",
       "</div>"
      ],
      "text/plain": [
       "                             Title        Location             Company_name  \\\n",
       "0             Data Analyst Vacancy  Bangalore\\n+14        divya interprises   \n",
       "1             Data Analyst Vacancy  Bangalore\\n+14        divya interprises   \n",
       "2            Clinical Data Analyst   Bangalore\\n+4          quiscon biotech   \n",
       "3  Data Analyst Urgent Recruitment  Bangalore\\n+14        divya interprises   \n",
       "4  Data Analyst Urgent Recruitment  Bangalore\\n+14        divya interprises   \n",
       "5  Data Analyst Urgent Recruitment  Bangalore\\n+14        divya interprises   \n",
       "6                   Data Analyst 1       Bangalore                merck ltd   \n",
       "7            Clinical Data Analyst   Bangalore\\n+6            techno endura   \n",
       "8          Hiring For Data Analyst  Bangalore\\n+14        divya interprises   \n",
       "9                     Data Analyst   Bangalore\\n+9  v-tech data outsourcing   \n",
       "\n",
       "   Experience  \n",
       "0  0 to 4 Yrs  \n",
       "1  0 to 4 Yrs  \n",
       "2  0 to 2 Yrs  \n",
       "3  0 to 4 Yrs  \n",
       "4  0 to 4 Yrs  \n",
       "5  0 to 4 Yrs  \n",
       "6  1 to 3 Yrs  \n",
       "7   0 to 1 Yr  \n",
       "8  0 to 4 Yrs  \n",
       "9  0 to 2 Yrs  "
      ]
     },
     "execution_count": 151,
     "metadata": {},
     "output_type": "execute_result"
    }
   ],
   "source": [
    "df.head(10)"
   ]
  },
  {
   "cell_type": "markdown",
   "id": "ad38ae86",
   "metadata": {},
   "source": [
    "2"
   ]
  },
  {
   "cell_type": "code",
   "execution_count": 19,
   "id": "836b380e",
   "metadata": {},
   "outputs": [],
   "source": [
    "driver.get(\"https://www.shine.com/\")"
   ]
  },
  {
   "cell_type": "code",
   "execution_count": 21,
   "id": "db1c24a3",
   "metadata": {},
   "outputs": [],
   "source": [
    "designation=driver.find_element(By.CLASS_NAME,\"form-control\")\n",
    "designation.send_keys(\"Data Scientist\")"
   ]
  },
  {
   "cell_type": "code",
   "execution_count": 22,
   "id": "a480f99d",
   "metadata": {},
   "outputs": [],
   "source": [
    "location=driver.find_element(By.XPATH,\"/html/body/div/div[4]/div/div[2]/div[2]/div/form/div/div[1]/ul/li[2]/div/input\")\n",
    "location.send_keys('Bangalore')"
   ]
  },
  {
   "cell_type": "code",
   "execution_count": 23,
   "id": "97223db1",
   "metadata": {},
   "outputs": [],
   "source": [
    "search=driver.find_element(By.CLASS_NAME,\"searchForm_btnWrap_advance__VYBHN\")\n",
    "search.click()"
   ]
  },
  {
   "cell_type": "code",
   "execution_count": 24,
   "id": "f1f652ab",
   "metadata": {},
   "outputs": [],
   "source": [
    "job_title=[]\n",
    "job_location=[]\n",
    "company_name=[]\n",
    "experience_required=[]"
   ]
  },
  {
   "cell_type": "code",
   "execution_count": 25,
   "id": "76bb9eef",
   "metadata": {},
   "outputs": [],
   "source": [
    "title_tags=driver.find_elements(By.XPATH,'//h2[@itemprop=\"name\"]/a')\n",
    "for i in title_tags[1:11]:\n",
    "    title=i.text\n",
    "    job_title.append(title)"
   ]
  },
  {
   "cell_type": "code",
   "execution_count": null,
   "id": "0d12092d",
   "metadata": {},
   "outputs": [],
   "source": []
  },
  {
   "cell_type": "code",
   "execution_count": 26,
   "id": "60adc3c7",
   "metadata": {},
   "outputs": [],
   "source": [
    "location_tags=driver.find_elements(By.XPATH,'//div[@class=\" jobCard_jobCard_lists_item__YxRkV jobCard_locationIcon__zrWt2\"]')\n",
    "for i in location_tags[1:11]:\n",
    "    location=i.text\n",
    "    job_location.append(location)\n"
   ]
  },
  {
   "cell_type": "code",
   "execution_count": 27,
   "id": "55e36b11",
   "metadata": {},
   "outputs": [],
   "source": [
    "company_tags=driver.find_elements(By.XPATH,'//div[@class=\"jobCard_jobCard_cName__mYnow\"]')\n",
    "for i in company_tags[1:11]:\n",
    "    company=i.text\n",
    "    company_name.append(company)"
   ]
  },
  {
   "cell_type": "code",
   "execution_count": 28,
   "id": "38d636aa",
   "metadata": {},
   "outputs": [],
   "source": [
    "experience_tags=driver.find_elements(By.XPATH,'//div[@class=\" jobCard_jobCard_lists_item__YxRkV jobCard_jobIcon__3FB1t\"]')\n",
    "for i in experience_tags[1:11]:\n",
    "    exp=i.text\n",
    "    experience_required.append(exp)\n"
   ]
  },
  {
   "cell_type": "code",
   "execution_count": 29,
   "id": "8e9702eb",
   "metadata": {},
   "outputs": [
    {
     "name": "stdout",
     "output_type": "stream",
     "text": [
      "10 10 10 10\n"
     ]
    }
   ],
   "source": [
    "print(len(job_title),len(job_location),len(company_name),len(experience_required))"
   ]
  },
  {
   "cell_type": "code",
   "execution_count": 30,
   "id": "95b85ec6",
   "metadata": {},
   "outputs": [
    {
     "data": {
      "text/html": [
       "<div>\n",
       "<style scoped>\n",
       "    .dataframe tbody tr th:only-of-type {\n",
       "        vertical-align: middle;\n",
       "    }\n",
       "\n",
       "    .dataframe tbody tr th {\n",
       "        vertical-align: top;\n",
       "    }\n",
       "\n",
       "    .dataframe thead th {\n",
       "        text-align: right;\n",
       "    }\n",
       "</style>\n",
       "<table border=\"1\" class=\"dataframe\">\n",
       "  <thead>\n",
       "    <tr style=\"text-align: right;\">\n",
       "      <th></th>\n",
       "      <th>Title</th>\n",
       "      <th>Location</th>\n",
       "      <th>Company_name</th>\n",
       "      <th>Experience</th>\n",
       "    </tr>\n",
       "  </thead>\n",
       "  <tbody>\n",
       "    <tr>\n",
       "      <th>0</th>\n",
       "      <td>Data Scientist Urgent Recruitment</td>\n",
       "      <td>Bangalore\\n+14</td>\n",
       "      <td>divya interprises</td>\n",
       "      <td>0 to 4 Yrs</td>\n",
       "    </tr>\n",
       "    <tr>\n",
       "      <th>1</th>\n",
       "      <td>Data Scientist- Bangalore</td>\n",
       "      <td>Bangalore</td>\n",
       "      <td>the fashion cosmo</td>\n",
       "      <td>0 to 3 Yrs</td>\n",
       "    </tr>\n",
       "    <tr>\n",
       "      <th>2</th>\n",
       "      <td>Data Scientist AI ML CV</td>\n",
       "      <td>Bangalore</td>\n",
       "      <td>bosch group</td>\n",
       "      <td>3 to 5 Yrs</td>\n",
       "    </tr>\n",
       "    <tr>\n",
       "      <th>3</th>\n",
       "      <td>Data Scientist AI ML NLP</td>\n",
       "      <td>Bangalore</td>\n",
       "      <td>bosch group</td>\n",
       "      <td>3 to 5 Yrs</td>\n",
       "    </tr>\n",
       "    <tr>\n",
       "      <th>4</th>\n",
       "      <td>Phd Data Scientist</td>\n",
       "      <td>Bangalore</td>\n",
       "      <td>bosch group</td>\n",
       "      <td>2 to 5 Yrs</td>\n",
       "    </tr>\n",
       "    <tr>\n",
       "      <th>5</th>\n",
       "      <td>Data Scientist-Bangalore</td>\n",
       "      <td>Bangalore</td>\n",
       "      <td>shiva hr services</td>\n",
       "      <td>0 to 3 Yrs</td>\n",
       "    </tr>\n",
       "    <tr>\n",
       "      <th>6</th>\n",
       "      <td>Hiring For Data Scientist</td>\n",
       "      <td>Bangalore\\n+14</td>\n",
       "      <td>divya interprises</td>\n",
       "      <td>0 to 4 Yrs</td>\n",
       "    </tr>\n",
       "    <tr>\n",
       "      <th>7</th>\n",
       "      <td>Data Scientist</td>\n",
       "      <td>Bangalore</td>\n",
       "      <td>racanaa energy solution private lim...</td>\n",
       "      <td>3 to 6 Yrs</td>\n",
       "    </tr>\n",
       "    <tr>\n",
       "      <th>8</th>\n",
       "      <td>Staff Data Scientist &amp; Team Lead</td>\n",
       "      <td>Bangalore</td>\n",
       "      <td>true caller</td>\n",
       "      <td>8 to 12 Yrs</td>\n",
       "    </tr>\n",
       "    <tr>\n",
       "      <th>9</th>\n",
       "      <td>Data scientist</td>\n",
       "      <td>Bangalore\\n+8</td>\n",
       "      <td>capgemini technology services india...</td>\n",
       "      <td>6 to 11 Yrs</td>\n",
       "    </tr>\n",
       "  </tbody>\n",
       "</table>\n",
       "</div>"
      ],
      "text/plain": [
       "                               Title        Location  \\\n",
       "0  Data Scientist Urgent Recruitment  Bangalore\\n+14   \n",
       "1          Data Scientist- Bangalore       Bangalore   \n",
       "2            Data Scientist AI ML CV       Bangalore   \n",
       "3           Data Scientist AI ML NLP       Bangalore   \n",
       "4                 Phd Data Scientist       Bangalore   \n",
       "5           Data Scientist-Bangalore       Bangalore   \n",
       "6          Hiring For Data Scientist  Bangalore\\n+14   \n",
       "7                     Data Scientist       Bangalore   \n",
       "8   Staff Data Scientist & Team Lead       Bangalore   \n",
       "9                     Data scientist   Bangalore\\n+8   \n",
       "\n",
       "                             Company_name   Experience  \n",
       "0                       divya interprises   0 to 4 Yrs  \n",
       "1                       the fashion cosmo   0 to 3 Yrs  \n",
       "2                             bosch group   3 to 5 Yrs  \n",
       "3                             bosch group   3 to 5 Yrs  \n",
       "4                             bosch group   2 to 5 Yrs  \n",
       "5                       shiva hr services   0 to 3 Yrs  \n",
       "6                       divya interprises   0 to 4 Yrs  \n",
       "7  racanaa energy solution private lim...   3 to 6 Yrs  \n",
       "8                             true caller  8 to 12 Yrs  \n",
       "9  capgemini technology services india...  6 to 11 Yrs  "
      ]
     },
     "execution_count": 30,
     "metadata": {},
     "output_type": "execute_result"
    }
   ],
   "source": [
    "import pandas as pd\n",
    "df=pd.DataFrame({'Title':job_title,'Location':job_location,'Company_name':company_name,'Experience':experience_required})\n",
    "df"
   ]
  },
  {
   "cell_type": "markdown",
   "id": "35e60e69",
   "metadata": {},
   "source": [
    "3"
   ]
  },
  {
   "cell_type": "code",
   "execution_count": 95,
   "id": "4153f015",
   "metadata": {},
   "outputs": [],
   "source": [
    "driver.get(\"https://www.shine.com/\")"
   ]
  },
  {
   "cell_type": "code",
   "execution_count": 96,
   "id": "a3b05793",
   "metadata": {},
   "outputs": [],
   "source": [
    "designation=driver.find_element(By.CLASS_NAME,\"form-control\")\n",
    "designation.send_keys(\"Data Scientist\")"
   ]
  },
  {
   "cell_type": "code",
   "execution_count": 97,
   "id": "8a511abd",
   "metadata": {},
   "outputs": [],
   "source": [
    "location=driver.find_element(By.XPATH,\"/html/body/div/div[4]/div/div[2]/div[2]/div/form/div/div[1]/ul/li[2]/div/input\")\n",
    "location.send_keys('Delhi/NCR')"
   ]
  },
  {
   "cell_type": "code",
   "execution_count": 100,
   "id": "2a18db7a",
   "metadata": {},
   "outputs": [],
   "source": [
    "salary_filter=driver.find_element(By.ID,'id_minsal')\n",
    "salary_filter.send_keys(\"3-6\")\n"
   ]
  },
  {
   "cell_type": "code",
   "execution_count": 101,
   "id": "1b1946a5",
   "metadata": {},
   "outputs": [],
   "source": [
    "search=driver.find_element(By.CLASS_NAME,\"searchForm_btnWrap_advance__VYBHN\")\n",
    "search.click()"
   ]
  },
  {
   "cell_type": "code",
   "execution_count": 102,
   "id": "9d4e7054",
   "metadata": {},
   "outputs": [],
   "source": [
    "job_title=[]\n",
    "job_location=[]\n",
    "company_name=[]\n",
    "experience_required=[]"
   ]
  },
  {
   "cell_type": "code",
   "execution_count": 103,
   "id": "2c28ab6f",
   "metadata": {},
   "outputs": [],
   "source": [
    "title_tags=driver.find_elements(By.XPATH,'//h2[@itemprop=\"name\"]/a')\n",
    "for i in title_tags[1:11]:\n",
    "    title=i.text\n",
    "    job_title.append(title)"
   ]
  },
  {
   "cell_type": "code",
   "execution_count": 104,
   "id": "09fa6098",
   "metadata": {},
   "outputs": [],
   "source": [
    "location_tags=driver.find_elements(By.XPATH,'//div[@class=\" jobCard_jobCard_lists_item__YxRkV jobCard_locationIcon__zrWt2\"]')\n",
    "for i in location_tags[1:11]:\n",
    "    location=i.text\n",
    "    job_location.append(location)\n"
   ]
  },
  {
   "cell_type": "code",
   "execution_count": 105,
   "id": "e277f1d8",
   "metadata": {},
   "outputs": [],
   "source": [
    "company_tags=driver.find_elements(By.XPATH,'//div[@class=\"jobCard_jobCard_cName__mYnow\"]')\n",
    "for i in company_tags[1:11]:\n",
    "    company=i.text\n",
    "    company_name.append(company)"
   ]
  },
  {
   "cell_type": "code",
   "execution_count": 106,
   "id": "1ce2135f",
   "metadata": {},
   "outputs": [],
   "source": [
    "experience_tags=driver.find_elements(By.XPATH,'//div[@class=\" jobCard_jobCard_lists_item__YxRkV jobCard_jobIcon__3FB1t\"]')\n",
    "for i in experience_tags[1:11]:\n",
    "    exp=i.text\n",
    "    experience_required.append(exp)\n"
   ]
  },
  {
   "cell_type": "code",
   "execution_count": 107,
   "id": "53f3661f",
   "metadata": {},
   "outputs": [
    {
     "name": "stdout",
     "output_type": "stream",
     "text": [
      "10 10 10 10\n"
     ]
    }
   ],
   "source": [
    "print(len(job_title),len(job_location),len(company_name),len(experience_required))"
   ]
  },
  {
   "cell_type": "code",
   "execution_count": 249,
   "id": "a19a9f7a",
   "metadata": {},
   "outputs": [
    {
     "data": {
      "text/html": [
       "<div>\n",
       "<style scoped>\n",
       "    .dataframe tbody tr th:only-of-type {\n",
       "        vertical-align: middle;\n",
       "    }\n",
       "\n",
       "    .dataframe tbody tr th {\n",
       "        vertical-align: top;\n",
       "    }\n",
       "\n",
       "    .dataframe thead th {\n",
       "        text-align: right;\n",
       "    }\n",
       "</style>\n",
       "<table border=\"1\" class=\"dataframe\">\n",
       "  <thead>\n",
       "    <tr style=\"text-align: right;\">\n",
       "      <th></th>\n",
       "      <th>Title</th>\n",
       "      <th>Location</th>\n",
       "      <th>Company_name</th>\n",
       "      <th>Experience</th>\n",
       "    </tr>\n",
       "  </thead>\n",
       "  <tbody>\n",
       "    <tr>\n",
       "      <th>0</th>\n",
       "      <td>Data Scientist Vacancy</td>\n",
       "      <td>Oman\\n+14</td>\n",
       "      <td>divya interprises</td>\n",
       "      <td>0 to 4 Yrs</td>\n",
       "    </tr>\n",
       "    <tr>\n",
       "      <th>1</th>\n",
       "      <td>Data Scientist Vacancy</td>\n",
       "      <td>Oman\\n+14</td>\n",
       "      <td>divya interprises</td>\n",
       "      <td>0 to 4 Yrs</td>\n",
       "    </tr>\n",
       "    <tr>\n",
       "      <th>2</th>\n",
       "      <td>Data Scientist Management Consulting Mumbai</td>\n",
       "      <td>Mumbai City</td>\n",
       "      <td>morpheus human consulting pvt ltd</td>\n",
       "      <td>2 to 4 Yrs</td>\n",
       "    </tr>\n",
       "    <tr>\n",
       "      <th>3</th>\n",
       "      <td>Data Scientist Urgent Recruitment</td>\n",
       "      <td>Oman\\n+14</td>\n",
       "      <td>divya interprises</td>\n",
       "      <td>0 to 4 Yrs</td>\n",
       "    </tr>\n",
       "    <tr>\n",
       "      <th>4</th>\n",
       "      <td>Data Scientist Urgent Recruitment</td>\n",
       "      <td>Oman\\n+14</td>\n",
       "      <td>divya interprises</td>\n",
       "      <td>0 to 4 Yrs</td>\n",
       "    </tr>\n",
       "    <tr>\n",
       "      <th>5</th>\n",
       "      <td>Data Scientist Urgent Recruitment</td>\n",
       "      <td>Oman\\n+14</td>\n",
       "      <td>divya interprises</td>\n",
       "      <td>0 to 4 Yrs</td>\n",
       "    </tr>\n",
       "    <tr>\n",
       "      <th>6</th>\n",
       "      <td>Senior Data Scientist</td>\n",
       "      <td>Chennai</td>\n",
       "      <td>pfizer limited</td>\n",
       "      <td>7 to 9 Yrs</td>\n",
       "    </tr>\n",
       "    <tr>\n",
       "      <th>7</th>\n",
       "      <td>Data Scientist- Madhya Pradesh</td>\n",
       "      <td>Other Madhya Pradesh</td>\n",
       "      <td>the fashion cosmo</td>\n",
       "      <td>0 to 3 Yrs</td>\n",
       "    </tr>\n",
       "    <tr>\n",
       "      <th>8</th>\n",
       "      <td>Data Scientist- Goa</td>\n",
       "      <td>Other Goa</td>\n",
       "      <td>the fashion cosmo</td>\n",
       "      <td>0 to 3 Yrs</td>\n",
       "    </tr>\n",
       "    <tr>\n",
       "      <th>9</th>\n",
       "      <td>Data Scientist- Chhattisgarh</td>\n",
       "      <td>Other Chattisgarh</td>\n",
       "      <td>the fashion cosmo</td>\n",
       "      <td>0 to 3 Yrs</td>\n",
       "    </tr>\n",
       "  </tbody>\n",
       "</table>\n",
       "</div>"
      ],
      "text/plain": [
       "                                         Title              Location  \\\n",
       "0                       Data Scientist Vacancy             Oman\\n+14   \n",
       "1                       Data Scientist Vacancy             Oman\\n+14   \n",
       "2  Data Scientist Management Consulting Mumbai           Mumbai City   \n",
       "3            Data Scientist Urgent Recruitment             Oman\\n+14   \n",
       "4            Data Scientist Urgent Recruitment             Oman\\n+14   \n",
       "5            Data Scientist Urgent Recruitment             Oman\\n+14   \n",
       "6                        Senior Data Scientist               Chennai   \n",
       "7               Data Scientist- Madhya Pradesh  Other Madhya Pradesh   \n",
       "8                          Data Scientist- Goa             Other Goa   \n",
       "9                 Data Scientist- Chhattisgarh     Other Chattisgarh   \n",
       "\n",
       "                        Company_name  Experience  \n",
       "0                  divya interprises  0 to 4 Yrs  \n",
       "1                  divya interprises  0 to 4 Yrs  \n",
       "2  morpheus human consulting pvt ltd  2 to 4 Yrs  \n",
       "3                  divya interprises  0 to 4 Yrs  \n",
       "4                  divya interprises  0 to 4 Yrs  \n",
       "5                  divya interprises  0 to 4 Yrs  \n",
       "6                     pfizer limited  7 to 9 Yrs  \n",
       "7                  the fashion cosmo  0 to 3 Yrs  \n",
       "8                  the fashion cosmo  0 to 3 Yrs  \n",
       "9                  the fashion cosmo  0 to 3 Yrs  "
      ]
     },
     "execution_count": 249,
     "metadata": {},
     "output_type": "execute_result"
    }
   ],
   "source": [
    "import pandas as pd\n",
    "df=pd.DataFrame({'Title':job_title,'Location':job_location,'Company_name':company_name,'Experience':experience_required})\n",
    "df"
   ]
  },
  {
   "cell_type": "markdown",
   "id": "8e86b231",
   "metadata": {},
   "source": [
    "4"
   ]
  },
  {
   "cell_type": "code",
   "execution_count": 321,
   "id": "1a5c57f8",
   "metadata": {},
   "outputs": [],
   "source": [
    "driver.get(\"https://www.flipkart.com/\")"
   ]
  },
  {
   "cell_type": "code",
   "execution_count": 322,
   "id": "fa2904bc",
   "metadata": {},
   "outputs": [],
   "source": [
    "designation=driver.find_element(By.CLASS_NAME,\"Pke_EE\")\n",
    "designation.send_keys(\"sunglasses\")"
   ]
  },
  {
   "cell_type": "code",
   "execution_count": 323,
   "id": "0c1e610a",
   "metadata": {},
   "outputs": [],
   "source": [
    "search=driver.find_element(By.CLASS_NAME,\"_2iLD__\")\n",
    "search.click()"
   ]
  },
  {
   "cell_type": "code",
   "execution_count": 324,
   "id": "9ca18081",
   "metadata": {},
   "outputs": [],
   "source": [
    "Company=[]\n",
    "productde=[]\n",
    "price=[]"
   ]
  },
  {
   "cell_type": "code",
   "execution_count": 325,
   "id": "7da74aed",
   "metadata": {},
   "outputs": [],
   "source": [
    "start=0\n",
    "end=3"
   ]
  },
  {
   "cell_type": "code",
   "execution_count": 326,
   "id": "fcd0d998",
   "metadata": {},
   "outputs": [],
   "source": [
    "from selenium.common.exceptions import StaleElementReferenceException\n",
    "from selenium.webdriver.support.ui import WebDriverWait\n",
    "from selenium.webdriver.support import expected_conditions as EC\n"
   ]
  },
  {
   "cell_type": "code",
   "execution_count": 327,
   "id": "ad72f969",
   "metadata": {},
   "outputs": [],
   "source": [
    "for page in range(start,end):\n",
    "    company=driver.find_elements(By.XPATH,'/html/body/div/div/div[3]/div[1]/div[2]/div[2]/div/div[1]/div/div/div[1]')\n",
    "    for i in company:\n",
    "        Company.append(i.text)"
   ]
  },
  {
   "cell_type": "code",
   "execution_count": 328,
   "id": "dde5e397",
   "metadata": {},
   "outputs": [],
   "source": [
    "        \n",
    "    next_button=driver.find_element(By.XPATH,'/html/body/div/div/div[3]/div[1]/div[2]/div[12]/div/div/nav/a[11]/span')\n",
    "    \n",
    "    \n",
    "    next_button.click()\n",
    "    time.sleep(3)"
   ]
  },
  {
   "cell_type": "code",
   "execution_count": 329,
   "id": "5dc4af5d",
   "metadata": {},
   "outputs": [],
   "source": [
    "start=0\n",
    "end=3"
   ]
  },
  {
   "cell_type": "code",
   "execution_count": 330,
   "id": "858d07fa",
   "metadata": {},
   "outputs": [],
   "source": [
    "for page in range(start,end):\n",
    "    product=driver.find_elements(By.XPATH,'/html/body/div/div/div[3]/div[1]/div[2]/div[2]/div/div[1]/div/div/a[1]')\n",
    "    for i in product:\n",
    "        productde.append(i.text)"
   ]
  },
  {
   "cell_type": "code",
   "execution_count": 331,
   "id": "5a266d63",
   "metadata": {},
   "outputs": [],
   "source": [
    "    next_button=driver.find_element(By.XPATH,'/html/body/div/div/div[3]/div[1]/div[2]/div[12]/div/div/nav/a[11]/span')\n",
    "    \n",
    "    \n",
    "    next_button.click()\n",
    "    time.sleep(3)"
   ]
  },
  {
   "cell_type": "code",
   "execution_count": 332,
   "id": "8342db76",
   "metadata": {},
   "outputs": [],
   "source": [
    "start=0\n",
    "end=3"
   ]
  },
  {
   "cell_type": "code",
   "execution_count": 333,
   "id": "96886377",
   "metadata": {},
   "outputs": [],
   "source": [
    "for page in range(start,end):\n",
    "    price_=driver.find_elements(By.XPATH,'/html/body/div/div/div[3]/div[1]/div[2]/div[2]/div/div[1]/div/div/a[2]/div/div[1]')\n",
    "    for i in price_:\n",
    "        price.append(i.text)"
   ]
  },
  {
   "cell_type": "code",
   "execution_count": 334,
   "id": "8edccb44",
   "metadata": {},
   "outputs": [],
   "source": [
    "    next_button=driver.find_element(By.XPATH,'/html/body/div/div/div[3]/div[1]/div[2]/div[12]/div/div/nav/a[11]/span')\n",
    "    \n",
    "    \n",
    "    next_button.click()\n",
    "    time.sleep(3)"
   ]
  },
  {
   "cell_type": "code",
   "execution_count": 335,
   "id": "c51345b9",
   "metadata": {},
   "outputs": [
    {
     "name": "stdout",
     "output_type": "stream",
     "text": [
      "3 3 3\n"
     ]
    }
   ],
   "source": [
    "print(len(Company),len(productde),len(price))"
   ]
  },
  {
   "cell_type": "code",
   "execution_count": 336,
   "id": "253d516f",
   "metadata": {},
   "outputs": [
    {
     "data": {
      "text/html": [
       "<div>\n",
       "<style scoped>\n",
       "    .dataframe tbody tr th:only-of-type {\n",
       "        vertical-align: middle;\n",
       "    }\n",
       "\n",
       "    .dataframe tbody tr th {\n",
       "        vertical-align: top;\n",
       "    }\n",
       "\n",
       "    .dataframe thead th {\n",
       "        text-align: right;\n",
       "    }\n",
       "</style>\n",
       "<table border=\"1\" class=\"dataframe\">\n",
       "  <thead>\n",
       "    <tr style=\"text-align: right;\">\n",
       "      <th></th>\n",
       "      <th>BRAND</th>\n",
       "      <th>PRODUCT</th>\n",
       "      <th>PRICE</th>\n",
       "    </tr>\n",
       "  </thead>\n",
       "  <tbody>\n",
       "    <tr>\n",
       "      <th>0</th>\n",
       "      <td>Sponsored</td>\n",
       "      <td>UV Protection Rectangular Sunglasses (Free Size)</td>\n",
       "      <td>₹449</td>\n",
       "    </tr>\n",
       "    <tr>\n",
       "      <th>1</th>\n",
       "      <td>Sponsored</td>\n",
       "      <td>UV Protection Rectangular Sunglasses (Free Size)</td>\n",
       "      <td>₹449</td>\n",
       "    </tr>\n",
       "    <tr>\n",
       "      <th>2</th>\n",
       "      <td>Sponsored</td>\n",
       "      <td>UV Protection Rectangular Sunglasses (Free Size)</td>\n",
       "      <td>₹449</td>\n",
       "    </tr>\n",
       "  </tbody>\n",
       "</table>\n",
       "</div>"
      ],
      "text/plain": [
       "       BRAND                                           PRODUCT PRICE\n",
       "0  Sponsored  UV Protection Rectangular Sunglasses (Free Size)  ₹449\n",
       "1  Sponsored  UV Protection Rectangular Sunglasses (Free Size)  ₹449\n",
       "2  Sponsored  UV Protection Rectangular Sunglasses (Free Size)  ₹449"
      ]
     },
     "execution_count": 336,
     "metadata": {},
     "output_type": "execute_result"
    }
   ],
   "source": [
    "import pandas as pd\n",
    "df=pd.DataFrame({'BRAND':Company,'PRODUCT':productde,'PRICE':price})\n",
    "df"
   ]
  },
  {
   "cell_type": "markdown",
   "id": "374fe2af",
   "metadata": {},
   "source": [
    "5"
   ]
  },
  {
   "cell_type": "code",
   "execution_count": 353,
   "id": "aec68319",
   "metadata": {},
   "outputs": [],
   "source": [
    "driver.get(\"https://www.flipkart.com/apple-iphone-12-black-64-gb/p/itma2559422bf7c7?pid=MOBFWBYZU5FWK2VP&lid=LSTMOBFWBYZU5FWK2VPQTNJSG&marketplace=FLIPKART&q=iphone+12&store=tyy%2F4io&srno=s_1_4&otracker=search&otracker1=search&fm=search-autosuggest&iid=4ec4251b-fe11-4f21-be40-00f4bef63d1b.MOBFWBYZU5FWK2VP.SEARCH&ppt=sp&ppn=sp&ssid=gwka3oy60w0000001699104968157&qH=7b7504afcaf2e1ea\")"
   ]
  },
  {
   "cell_type": "code",
   "execution_count": 354,
   "id": "d4673353",
   "metadata": {},
   "outputs": [],
   "source": [
    "Ratings=[]\n"
   ]
  },
  {
   "cell_type": "code",
   "execution_count": 355,
   "id": "20376c88",
   "metadata": {},
   "outputs": [],
   "source": [
    "start=0\n",
    "end=10"
   ]
  },
  {
   "cell_type": "code",
   "execution_count": 356,
   "id": "3c06c1f0",
   "metadata": {},
   "outputs": [],
   "source": [
    "for page in range(start,end):\n",
    "    ratings=driver.find_elements(By.XPATH,'//div[@class=\"_3LWZlK _1BLPMq\"]')\n",
    "    \n",
    "    for i in ratings:\n",
    "        Ratings.append(i.text)\n",
    "        \n",
    "    next_button=driver.find_element(By.XPATH,'//a[@class=\"_1LKTO3\"]')\n",
    "    \n",
    "    \n",
    "    next_button.click()\n",
    "    time.sleep(3)"
   ]
  },
  {
   "cell_type": "code",
   "execution_count": 357,
   "id": "34cfc66f",
   "metadata": {},
   "outputs": [],
   "source": [
    "Review_summary=[]"
   ]
  },
  {
   "cell_type": "code",
   "execution_count": 358,
   "id": "63c74f9c",
   "metadata": {},
   "outputs": [],
   "source": [
    "start=0\n",
    "end=10\n"
   ]
  },
  {
   "cell_type": "code",
   "execution_count": 359,
   "id": "e477c49e",
   "metadata": {},
   "outputs": [],
   "source": [
    "for page in range(start,end):\n",
    "    review=driver.find_elements(By.XPATH,'//p[@class=\"_2-N8zT\"]')\n",
    "    \n",
    "    for i in review:\n",
    "        Review_summary.append(i.text)\n",
    "        \n",
    "    next_button=driver.find_element(By.XPATH,'//a[@class=\"_1LKTO3\"]')\n",
    "    \n",
    "    \n",
    "    next_button.click()\n",
    "    time.sleep(3)"
   ]
  },
  {
   "cell_type": "code",
   "execution_count": 360,
   "id": "aabf997f",
   "metadata": {},
   "outputs": [],
   "source": [
    "Full_review=[]"
   ]
  },
  {
   "cell_type": "code",
   "execution_count": 361,
   "id": "06a4822e",
   "metadata": {},
   "outputs": [],
   "source": [
    "start=0\n",
    "end=10"
   ]
  },
  {
   "cell_type": "code",
   "execution_count": 362,
   "id": "e71381a5",
   "metadata": {},
   "outputs": [],
   "source": [
    "for page in range(start,end):\n",
    "    review_full=driver.find_elements(By.XPATH,'//div[@class=\"t-ZTKy\"]')\n",
    "    \n",
    "    for i in review_full:\n",
    "        Full_review.append(i.text)\n",
    "        \n",
    "    next_button=driver.find_element(By.XPATH,'//a[@class=\"_1LKTO3\"]')\n",
    "    \n",
    "    \n",
    "    next_button.click()\n",
    "    time.sleep(3)"
   ]
  },
  {
   "cell_type": "code",
   "execution_count": 363,
   "id": "3e42aed9",
   "metadata": {},
   "outputs": [
    {
     "name": "stdout",
     "output_type": "stream",
     "text": [
      "100 100 100\n"
     ]
    }
   ],
   "source": [
    "print(len(Ratings),len(Review_summary),len(Full_review))"
   ]
  },
  {
   "cell_type": "code",
   "execution_count": null,
   "id": "0dfc0ad4",
   "metadata": {},
   "outputs": [],
   "source": []
  },
  {
   "cell_type": "code",
   "execution_count": 364,
   "id": "034d689d",
   "metadata": {},
   "outputs": [
    {
     "data": {
      "text/html": [
       "<div>\n",
       "<style scoped>\n",
       "    .dataframe tbody tr th:only-of-type {\n",
       "        vertical-align: middle;\n",
       "    }\n",
       "\n",
       "    .dataframe tbody tr th {\n",
       "        vertical-align: top;\n",
       "    }\n",
       "\n",
       "    .dataframe thead th {\n",
       "        text-align: right;\n",
       "    }\n",
       "</style>\n",
       "<table border=\"1\" class=\"dataframe\">\n",
       "  <thead>\n",
       "    <tr style=\"text-align: right;\">\n",
       "      <th></th>\n",
       "      <th>RATINGS</th>\n",
       "      <th>REVIEW_SUMMARY</th>\n",
       "      <th>FULL_REVIEW</th>\n",
       "    </tr>\n",
       "  </thead>\n",
       "  <tbody>\n",
       "    <tr>\n",
       "      <th>0</th>\n",
       "      <td>5</td>\n",
       "      <td>Must buy!</td>\n",
       "      <td>Go for it</td>\n",
       "    </tr>\n",
       "    <tr>\n",
       "      <th>1</th>\n",
       "      <td>5</td>\n",
       "      <td>Classy product</td>\n",
       "      <td>Awesome</td>\n",
       "    </tr>\n",
       "    <tr>\n",
       "      <th>2</th>\n",
       "      <td>5</td>\n",
       "      <td>Wonderful</td>\n",
       "      <td>Performance is soooo fast\\nEspecially faceid d...</td>\n",
       "    </tr>\n",
       "    <tr>\n",
       "      <th>3</th>\n",
       "      <td>5</td>\n",
       "      <td>Simply awesome</td>\n",
       "      <td>Awesome Camera</td>\n",
       "    </tr>\n",
       "    <tr>\n",
       "      <th>4</th>\n",
       "      <td>5</td>\n",
       "      <td>Must buy!</td>\n",
       "      <td>Camera quality is just fabulous. Interface is ...</td>\n",
       "    </tr>\n",
       "    <tr>\n",
       "      <th>...</th>\n",
       "      <td>...</td>\n",
       "      <td>...</td>\n",
       "      <td>...</td>\n",
       "    </tr>\n",
       "    <tr>\n",
       "      <th>95</th>\n",
       "      <td>5</td>\n",
       "      <td>Simply awesome</td>\n",
       "      <td>Excellent camera , good performance,average ba...</td>\n",
       "    </tr>\n",
       "    <tr>\n",
       "      <th>96</th>\n",
       "      <td>5</td>\n",
       "      <td>Awesome</td>\n",
       "      <td>Classic</td>\n",
       "    </tr>\n",
       "    <tr>\n",
       "      <th>97</th>\n",
       "      <td>5</td>\n",
       "      <td>Excellent</td>\n",
       "      <td>Love it.</td>\n",
       "    </tr>\n",
       "    <tr>\n",
       "      <th>98</th>\n",
       "      <td>5</td>\n",
       "      <td>Terrific</td>\n",
       "      <td>Wow superb camera phone\\nVery smooth speed and...</td>\n",
       "    </tr>\n",
       "    <tr>\n",
       "      <th>99</th>\n",
       "      <td>5</td>\n",
       "      <td>Worth every penny</td>\n",
       "      <td>Just go for it\\nI purchased 128 gb purple colo...</td>\n",
       "    </tr>\n",
       "  </tbody>\n",
       "</table>\n",
       "<p>100 rows × 3 columns</p>\n",
       "</div>"
      ],
      "text/plain": [
       "   RATINGS     REVIEW_SUMMARY  \\\n",
       "0        5          Must buy!   \n",
       "1        5     Classy product   \n",
       "2        5          Wonderful   \n",
       "3        5     Simply awesome   \n",
       "4        5          Must buy!   \n",
       "..     ...                ...   \n",
       "95       5     Simply awesome   \n",
       "96       5            Awesome   \n",
       "97       5          Excellent   \n",
       "98       5           Terrific   \n",
       "99       5  Worth every penny   \n",
       "\n",
       "                                          FULL_REVIEW  \n",
       "0                                           Go for it  \n",
       "1                                             Awesome  \n",
       "2   Performance is soooo fast\\nEspecially faceid d...  \n",
       "3                                      Awesome Camera  \n",
       "4   Camera quality is just fabulous. Interface is ...  \n",
       "..                                                ...  \n",
       "95  Excellent camera , good performance,average ba...  \n",
       "96                                            Classic  \n",
       "97                                           Love it.  \n",
       "98  Wow superb camera phone\\nVery smooth speed and...  \n",
       "99  Just go for it\\nI purchased 128 gb purple colo...  \n",
       "\n",
       "[100 rows x 3 columns]"
      ]
     },
     "execution_count": 364,
     "metadata": {},
     "output_type": "execute_result"
    }
   ],
   "source": [
    "import pandas as pd\n",
    "df=pd.DataFrame({'RATINGS':Ratings,'REVIEW_SUMMARY':Review_summary,'FULL_REVIEW':Full_review})\n",
    "df"
   ]
  },
  {
   "cell_type": "markdown",
   "id": "62f9ee87",
   "metadata": {},
   "source": [
    "6"
   ]
  },
  {
   "cell_type": "code",
   "execution_count": 560,
   "id": "ecba59c7",
   "metadata": {},
   "outputs": [],
   "source": [
    "driver.get(\"https:/www.flipkart.com/\")"
   ]
  },
  {
   "cell_type": "code",
   "execution_count": 561,
   "id": "6da8bca8",
   "metadata": {},
   "outputs": [],
   "source": [
    "designation=driver.find_element(By.CLASS_NAME,'Pke_EE')\n",
    "designation.send_keys('sneakers')"
   ]
  },
  {
   "cell_type": "code",
   "execution_count": 562,
   "id": "1060036a",
   "metadata": {},
   "outputs": [],
   "source": [
    "search=driver.find_element(By.CLASS_NAME,'_2iLD__')\n",
    "search.click()"
   ]
  },
  {
   "cell_type": "code",
   "execution_count": 563,
   "id": "a96403e2",
   "metadata": {},
   "outputs": [],
   "source": [
    "Brand_name=[]"
   ]
  },
  {
   "cell_type": "code",
   "execution_count": 564,
   "id": "89e9bed9",
   "metadata": {},
   "outputs": [],
   "source": [
    "start=0\n",
    "end=3"
   ]
  },
  {
   "cell_type": "code",
   "execution_count": 565,
   "id": "8e7118f2",
   "metadata": {},
   "outputs": [],
   "source": [
    "for page in range(start,end):\n",
    "    brand_name=driver.find_elements(By.XPATH,'//div[@class=\"_2WkVRV\"]')\n",
    "    \n",
    "    for i in brand_name:\n",
    "        Brand_name.append(i.text)"
   ]
  },
  {
   "cell_type": "code",
   "execution_count": 566,
   "id": "5dc85535",
   "metadata": {},
   "outputs": [],
   "source": [
    "        \n",
    "        next_button=driver.find_element(By.XPATH,'//a[@class=\"_1LKTO3\"]')\n",
    "        \n",
    "        next_button.click()\n",
    "        time.sleep(3)"
   ]
  },
  {
   "cell_type": "code",
   "execution_count": 576,
   "id": "8de2c87d",
   "metadata": {},
   "outputs": [],
   "source": [
    "Product_description=[]"
   ]
  },
  {
   "cell_type": "code",
   "execution_count": 577,
   "id": "a63dcc74",
   "metadata": {},
   "outputs": [],
   "source": [
    "start=0\n",
    "end=3"
   ]
  },
  {
   "cell_type": "code",
   "execution_count": 578,
   "id": "032eb0ac",
   "metadata": {},
   "outputs": [],
   "source": [
    "for page in range(start,end):\n",
    "    product=driver.find_elements(By.XPATH,'//a[@class=\"IRpwTa\"]')\n",
    "    \n",
    "    for i in product:\n",
    "        Product_description.append(i.text)"
   ]
  },
  {
   "cell_type": "code",
   "execution_count": 579,
   "id": "dab19024",
   "metadata": {},
   "outputs": [],
   "source": [
    "    \n",
    "    next_button=driver.find_element(By.XPATH,'/html/body/div/div/div[3]/div[1]/div[2]/div[12]/div/div/nav/a[11]')\n",
    "    \n",
    "    next_button.click()\n",
    "    time.sleep(3)"
   ]
  },
  {
   "cell_type": "code",
   "execution_count": 571,
   "id": "43926671",
   "metadata": {},
   "outputs": [],
   "source": [
    "Price=[]\n"
   ]
  },
  {
   "cell_type": "code",
   "execution_count": 572,
   "id": "775dfdb6",
   "metadata": {},
   "outputs": [],
   "source": [
    "start=0\n",
    "end=3"
   ]
  },
  {
   "cell_type": "code",
   "execution_count": 573,
   "id": "f3725fa4",
   "metadata": {},
   "outputs": [],
   "source": [
    "for page in range(start,end):\n",
    "    description=driver.find_elements(By.XPATH,'//div[@class=\"_30jeq3\"]')\n",
    "    \n",
    "    for i in description:\n",
    "        Price.append(i.text)"
   ]
  },
  {
   "cell_type": "code",
   "execution_count": 574,
   "id": "b6523d03",
   "metadata": {},
   "outputs": [],
   "source": [
    "        \n",
    "        next_button=driver.find_element(By.XPATH,'/html/body/div/div/div[3]/div[1]/div[2]/div[12]/div/div/nav/a[11]')\n",
    "        next_button.click()\n",
    "        time.sleep(3)"
   ]
  },
  {
   "cell_type": "code",
   "execution_count": null,
   "id": "ff94f8fe",
   "metadata": {},
   "outputs": [],
   "source": []
  },
  {
   "cell_type": "code",
   "execution_count": 580,
   "id": "bf0c6118",
   "metadata": {},
   "outputs": [
    {
     "name": "stdout",
     "output_type": "stream",
     "text": [
      "120 120 120\n"
     ]
    }
   ],
   "source": [
    "print(len(Brand_name),len(Price),len(Product_description))"
   ]
  },
  {
   "cell_type": "code",
   "execution_count": 581,
   "id": "102e42fd",
   "metadata": {},
   "outputs": [
    {
     "data": {
      "text/html": [
       "<div>\n",
       "<style scoped>\n",
       "    .dataframe tbody tr th:only-of-type {\n",
       "        vertical-align: middle;\n",
       "    }\n",
       "\n",
       "    .dataframe tbody tr th {\n",
       "        vertical-align: top;\n",
       "    }\n",
       "\n",
       "    .dataframe thead th {\n",
       "        text-align: right;\n",
       "    }\n",
       "</style>\n",
       "<table border=\"1\" class=\"dataframe\">\n",
       "  <thead>\n",
       "    <tr style=\"text-align: right;\">\n",
       "      <th></th>\n",
       "      <th>BRAND_NAME</th>\n",
       "      <th>PRICE</th>\n",
       "      <th>PRODUCT_DESCRIPTION</th>\n",
       "    </tr>\n",
       "  </thead>\n",
       "  <tbody>\n",
       "    <tr>\n",
       "      <th>0</th>\n",
       "      <td>BRUTON</td>\n",
       "      <td>₹639</td>\n",
       "      <td>Girls Stylish Casual Sports Shoe Sneakers For ...</td>\n",
       "    </tr>\n",
       "    <tr>\n",
       "      <th>1</th>\n",
       "      <td>BRUTON</td>\n",
       "      <td>₹2,799</td>\n",
       "      <td>GO WALK FLEX - CLEVE Sneakers For Women</td>\n",
       "    </tr>\n",
       "    <tr>\n",
       "      <th>2</th>\n",
       "      <td>URBANBOX</td>\n",
       "      <td>₹1,027</td>\n",
       "      <td>Stride Sneakers For Men</td>\n",
       "    </tr>\n",
       "    <tr>\n",
       "      <th>3</th>\n",
       "      <td>Layasa</td>\n",
       "      <td>₹2,999</td>\n",
       "      <td>530 Sneakers For Men</td>\n",
       "    </tr>\n",
       "    <tr>\n",
       "      <th>4</th>\n",
       "      <td>aadi</td>\n",
       "      <td>₹1,639</td>\n",
       "      <td>Graviton Pro L Sneakers For Men</td>\n",
       "    </tr>\n",
       "    <tr>\n",
       "      <th>...</th>\n",
       "      <td>...</td>\n",
       "      <td>...</td>\n",
       "      <td>...</td>\n",
       "    </tr>\n",
       "    <tr>\n",
       "      <th>115</th>\n",
       "      <td>asian</td>\n",
       "      <td>₹599</td>\n",
       "      <td>BMW MMS Drift Cat Delta Sneakers For Men</td>\n",
       "    </tr>\n",
       "    <tr>\n",
       "      <th>116</th>\n",
       "      <td>Magnolia</td>\n",
       "      <td>₹7,199</td>\n",
       "      <td>UNO - ALUMINIFEROUS Sneakers For Women</td>\n",
       "    </tr>\n",
       "    <tr>\n",
       "      <th>117</th>\n",
       "      <td>aadi</td>\n",
       "      <td>₹4,499</td>\n",
       "      <td>BILLION 2 - SIDE LIN Sneakers For Women</td>\n",
       "    </tr>\n",
       "    <tr>\n",
       "      <th>118</th>\n",
       "      <td>RED TAPE</td>\n",
       "      <td>₹3,149</td>\n",
       "      <td>2 Combo Sneaker Shoes Sneakers For Men</td>\n",
       "    </tr>\n",
       "    <tr>\n",
       "      <th>119</th>\n",
       "      <td>PUMA</td>\n",
       "      <td>₹2,249</td>\n",
       "      <td>LIGUORY 2.0 Sneakers For Men</td>\n",
       "    </tr>\n",
       "  </tbody>\n",
       "</table>\n",
       "<p>120 rows × 3 columns</p>\n",
       "</div>"
      ],
      "text/plain": [
       "    BRAND_NAME   PRICE                                PRODUCT_DESCRIPTION\n",
       "0       BRUTON    ₹639  Girls Stylish Casual Sports Shoe Sneakers For ...\n",
       "1       BRUTON  ₹2,799            GO WALK FLEX - CLEVE Sneakers For Women\n",
       "2     URBANBOX  ₹1,027                            Stride Sneakers For Men\n",
       "3       Layasa  ₹2,999                               530 Sneakers For Men\n",
       "4         aadi  ₹1,639                    Graviton Pro L Sneakers For Men\n",
       "..         ...     ...                                                ...\n",
       "115      asian    ₹599           BMW MMS Drift Cat Delta Sneakers For Men\n",
       "116   Magnolia  ₹7,199             UNO - ALUMINIFEROUS Sneakers For Women\n",
       "117       aadi  ₹4,499            BILLION 2 - SIDE LIN Sneakers For Women\n",
       "118   RED TAPE  ₹3,149             2 Combo Sneaker Shoes Sneakers For Men\n",
       "119       PUMA  ₹2,249                       LIGUORY 2.0 Sneakers For Men\n",
       "\n",
       "[120 rows x 3 columns]"
      ]
     },
     "execution_count": 581,
     "metadata": {},
     "output_type": "execute_result"
    }
   ],
   "source": [
    "import pandas as pd\n",
    "df=pd.DataFrame({'BRAND_NAME':Brand_name,'PRICE':Price,'PRODUCT_DESCRIPTION':Product_description})\n",
    "df"
   ]
  },
  {
   "cell_type": "markdown",
   "id": "07b6ddf2",
   "metadata": {},
   "source": [
    "7"
   ]
  },
  {
   "cell_type": "code",
   "execution_count": 606,
   "id": "d6b2ca15",
   "metadata": {},
   "outputs": [],
   "source": [
    "driver.get(\"https:/www.amazon.in/\")"
   ]
  },
  {
   "cell_type": "code",
   "execution_count": 607,
   "id": "ec2e31b8",
   "metadata": {},
   "outputs": [],
   "source": [
    "designation=driver.find_element(By.XPATH,'/html/body/div[1]/header/div/div[1]/div[2]/div/form/div[2]/div[1]/input')\n",
    "designation.send_keys('Laptops')"
   ]
  },
  {
   "cell_type": "code",
   "execution_count": 608,
   "id": "b68fbd18",
   "metadata": {},
   "outputs": [],
   "source": [
    "search=driver.find_element(By.XPATH,'/html/body/div[1]/header/div/div[1]/div[2]/div/form/div[3]/div/span/input')\n",
    "search.click()"
   ]
  },
  {
   "cell_type": "code",
   "execution_count": 614,
   "id": "fcbd18de",
   "metadata": {},
   "outputs": [],
   "source": [
    "Titles=[]"
   ]
  },
  {
   "cell_type": "code",
   "execution_count": 615,
   "id": "5f86de9b",
   "metadata": {},
   "outputs": [],
   "source": [
    "title_tags=driver.find_elements(By.XPATH,'//div[@class=\"a-section a-spacing-none puis-padding-right-small s-title-instructions-style\"]')\n",
    "for i in title_tags[1:11]:\n",
    "    title=i.text\n",
    "    Titles.append(title)"
   ]
  },
  {
   "cell_type": "code",
   "execution_count": 616,
   "id": "c9131eb4",
   "metadata": {},
   "outputs": [],
   "source": [
    "Ratings=[]"
   ]
  },
  {
   "cell_type": "code",
   "execution_count": 622,
   "id": "7e42dfc9",
   "metadata": {},
   "outputs": [],
   "source": [
    "rating_tags=driver.find_elements(By.XPATH,'//span[@class=\"a-icon-alt\"]')\n",
    "for i in rating_tags[1:11]:\n",
    "    rating=i.text\n",
    "    Ratings.append(rating)"
   ]
  },
  {
   "cell_type": "code",
   "execution_count": 618,
   "id": "f6736f73",
   "metadata": {},
   "outputs": [],
   "source": [
    "Price=[]"
   ]
  },
  {
   "cell_type": "code",
   "execution_count": 624,
   "id": "20ec2712",
   "metadata": {},
   "outputs": [],
   "source": [
    "price_tags=driver.find_elements(By.XPATH,'//span[@class=\"a-price-whole\"]')\n",
    "for i in price_tags[1:11]:\n",
    "    price=i.text\n",
    "    Price.append(price)"
   ]
  },
  {
   "cell_type": "code",
   "execution_count": 625,
   "id": "3ef94d62",
   "metadata": {},
   "outputs": [
    {
     "name": "stdout",
     "output_type": "stream",
     "text": [
      "10 10 10\n"
     ]
    }
   ],
   "source": [
    "print(len(Titles),len(Ratings),len(Price))"
   ]
  },
  {
   "cell_type": "code",
   "execution_count": 626,
   "id": "aa8a793c",
   "metadata": {},
   "outputs": [
    {
     "data": {
      "text/html": [
       "<div>\n",
       "<style scoped>\n",
       "    .dataframe tbody tr th:only-of-type {\n",
       "        vertical-align: middle;\n",
       "    }\n",
       "\n",
       "    .dataframe tbody tr th {\n",
       "        vertical-align: top;\n",
       "    }\n",
       "\n",
       "    .dataframe thead th {\n",
       "        text-align: right;\n",
       "    }\n",
       "</style>\n",
       "<table border=\"1\" class=\"dataframe\">\n",
       "  <thead>\n",
       "    <tr style=\"text-align: right;\">\n",
       "      <th></th>\n",
       "      <th>TITLES</th>\n",
       "      <th>RATINGS</th>\n",
       "      <th>PRICE</th>\n",
       "    </tr>\n",
       "  </thead>\n",
       "  <tbody>\n",
       "    <tr>\n",
       "      <th>0</th>\n",
       "      <td>ASUS Vivobook 15, IntelCore i7-12650H 12th Gen...</td>\n",
       "      <td></td>\n",
       "      <td>60,990</td>\n",
       "    </tr>\n",
       "    <tr>\n",
       "      <th>1</th>\n",
       "      <td>HP Laptop 15s, 12th Gen Intel Core i7-1255U, 1...</td>\n",
       "      <td></td>\n",
       "      <td>63,990</td>\n",
       "    </tr>\n",
       "    <tr>\n",
       "      <th>2</th>\n",
       "      <td>MSI Modern 14, Intel 12th Gen. i7-1255U, 36CM ...</td>\n",
       "      <td></td>\n",
       "      <td>49,990</td>\n",
       "    </tr>\n",
       "    <tr>\n",
       "      <th>3</th>\n",
       "      <td>Lenovo IdeaPad Slim 3 Intel Core i7 11th Gen 1...</td>\n",
       "      <td></td>\n",
       "      <td>52,990</td>\n",
       "    </tr>\n",
       "    <tr>\n",
       "      <th>4</th>\n",
       "      <td>MSI GF63 Thin, Intel Core i7-11800H, 40CM FHD ...</td>\n",
       "      <td></td>\n",
       "      <td>64,990</td>\n",
       "    </tr>\n",
       "    <tr>\n",
       "      <th>5</th>\n",
       "      <td>MSI GF63 Thin, Intel Core i7-11800H, 40CM FHD ...</td>\n",
       "      <td></td>\n",
       "      <td>57,990</td>\n",
       "    </tr>\n",
       "    <tr>\n",
       "      <th>6</th>\n",
       "      <td>ASUS TUF Gaming F15, 15.6-inch (39.62 cms) FHD...</td>\n",
       "      <td></td>\n",
       "      <td>85,990</td>\n",
       "    </tr>\n",
       "    <tr>\n",
       "      <th>7</th>\n",
       "      <td>Dell Inspiron 5430 Laptop, Intel Core i7-1360P...</td>\n",
       "      <td></td>\n",
       "      <td>84,990</td>\n",
       "    </tr>\n",
       "    <tr>\n",
       "      <th>8</th>\n",
       "      <td>HP Victus Gaming Laptop, 12th Gen Intel Core i...</td>\n",
       "      <td></td>\n",
       "      <td>84,990</td>\n",
       "    </tr>\n",
       "    <tr>\n",
       "      <th>9</th>\n",
       "      <td>HP Envy x360 for Creators 12th Gen Intel Core ...</td>\n",
       "      <td></td>\n",
       "      <td>1,19,990</td>\n",
       "    </tr>\n",
       "  </tbody>\n",
       "</table>\n",
       "</div>"
      ],
      "text/plain": [
       "                                              TITLES RATINGS     PRICE\n",
       "0  ASUS Vivobook 15, IntelCore i7-12650H 12th Gen...            60,990\n",
       "1  HP Laptop 15s, 12th Gen Intel Core i7-1255U, 1...            63,990\n",
       "2  MSI Modern 14, Intel 12th Gen. i7-1255U, 36CM ...            49,990\n",
       "3  Lenovo IdeaPad Slim 3 Intel Core i7 11th Gen 1...            52,990\n",
       "4  MSI GF63 Thin, Intel Core i7-11800H, 40CM FHD ...            64,990\n",
       "5  MSI GF63 Thin, Intel Core i7-11800H, 40CM FHD ...            57,990\n",
       "6  ASUS TUF Gaming F15, 15.6-inch (39.62 cms) FHD...            85,990\n",
       "7  Dell Inspiron 5430 Laptop, Intel Core i7-1360P...            84,990\n",
       "8  HP Victus Gaming Laptop, 12th Gen Intel Core i...            84,990\n",
       "9  HP Envy x360 for Creators 12th Gen Intel Core ...          1,19,990"
      ]
     },
     "execution_count": 626,
     "metadata": {},
     "output_type": "execute_result"
    }
   ],
   "source": [
    "import pandas as pd\n",
    "df=pd.DataFrame({'TITLES':Titles,'RATINGS':Ratings,'PRICE':Price})\n",
    "df"
   ]
  },
  {
   "cell_type": "markdown",
   "id": "c96781bb",
   "metadata": {},
   "source": [
    "8"
   ]
  },
  {
   "cell_type": "code",
   "execution_count": 14,
   "id": "01e159b3",
   "metadata": {},
   "outputs": [],
   "source": [
    "driver.get(\"https://www.azquotes.com/\")"
   ]
  },
  {
   "cell_type": "code",
   "execution_count": 15,
   "id": "2ce74612",
   "metadata": {},
   "outputs": [],
   "source": [
    "Quotes=[]"
   ]
  },
  {
   "cell_type": "code",
   "execution_count": 16,
   "id": "85d6c20a",
   "metadata": {},
   "outputs": [],
   "source": [
    "start=0\n",
    "end=10"
   ]
  },
  {
   "cell_type": "code",
   "execution_count": 17,
   "id": "a4d79289",
   "metadata": {},
   "outputs": [],
   "source": [
    "for page in range(start,end):\n",
    "    quotes=driver.find_elements(By.XPATH,'//a[@class=\"title\"]')\n",
    "    \n",
    "    for i in quotes:\n",
    "        Quotes.append(i.text)"
   ]
  },
  {
   "cell_type": "code",
   "execution_count": 18,
   "id": "b2e70219",
   "metadata": {},
   "outputs": [],
   "source": [
    "        next_button=driver.find_element(By.XPATH,'/html/body/div[1]/div[2]/div/div/div/div[1]/div/div[3]/li[12]/a')\n",
    "        \n",
    "        next_button.click()\n",
    "        time.sleep(3)"
   ]
  },
  {
   "cell_type": "code",
   "execution_count": 19,
   "id": "bf2208e4",
   "metadata": {},
   "outputs": [],
   "source": [
    "Author=[]"
   ]
  },
  {
   "cell_type": "code",
   "execution_count": 20,
   "id": "427aaddc",
   "metadata": {},
   "outputs": [],
   "source": [
    "start=0\n",
    "end=10"
   ]
  },
  {
   "cell_type": "code",
   "execution_count": 21,
   "id": "ca02dfef",
   "metadata": {},
   "outputs": [],
   "source": [
    "for page in range(start,end):\n",
    "    authors=driver.find_elements(By.XPATH,'//div[@class=\"author\"]')\n",
    "    \n",
    "    for i in authors:\n",
    "        Author.append(i.text)"
   ]
  },
  {
   "cell_type": "code",
   "execution_count": 23,
   "id": "1fd8d2d0",
   "metadata": {},
   "outputs": [],
   "source": [
    "        next_button=driver.find_element(By.XPATH,'/html/body/div[1]/div[2]/div/div/div/div[1]/div/div[3]/li[12]/a')\n",
    "        \n",
    "        next_button.click()\n",
    "        time.sleep(3)"
   ]
  },
  {
   "cell_type": "code",
   "execution_count": 24,
   "id": "967ca192",
   "metadata": {},
   "outputs": [],
   "source": [
    "Types_of_Quotes=[]"
   ]
  },
  {
   "cell_type": "code",
   "execution_count": 25,
   "id": "85d2446a",
   "metadata": {},
   "outputs": [],
   "source": [
    "start=0\n",
    "end=10"
   ]
  },
  {
   "cell_type": "code",
   "execution_count": 26,
   "id": "7437b826",
   "metadata": {},
   "outputs": [],
   "source": [
    "for page in range(start,end):\n",
    "    typesofquotes=driver.find_elements(By.XPATH,'//div[@class=\"author\"]')\n",
    "    \n",
    "    for i in typesofquotes:\n",
    "        Types_of_Quotes.append(i.text)"
   ]
  },
  {
   "cell_type": "code",
   "execution_count": 28,
   "id": "3ee8af7e",
   "metadata": {},
   "outputs": [],
   "source": [
    "        next_button=driver.find_element(By.XPATH,'/html/body/div[1]/div[2]/div/div/div/div[1]/div/div[3]/li[12]/a')\n",
    "        \n",
    "        next_button.click()\n",
    "        time.sleep(3)"
   ]
  },
  {
   "cell_type": "code",
   "execution_count": 29,
   "id": "21446286",
   "metadata": {},
   "outputs": [
    {
     "name": "stdout",
     "output_type": "stream",
     "text": [
      "1000 1000 1000\n"
     ]
    }
   ],
   "source": [
    "print(len(Quotes),len(Author),len(Types_of_Quotes))"
   ]
  },
  {
   "cell_type": "code",
   "execution_count": 30,
   "id": "7d0043dc",
   "metadata": {},
   "outputs": [
    {
     "data": {
      "text/html": [
       "<div>\n",
       "<style scoped>\n",
       "    .dataframe tbody tr th:only-of-type {\n",
       "        vertical-align: middle;\n",
       "    }\n",
       "\n",
       "    .dataframe tbody tr th {\n",
       "        vertical-align: top;\n",
       "    }\n",
       "\n",
       "    .dataframe thead th {\n",
       "        text-align: right;\n",
       "    }\n",
       "</style>\n",
       "<table border=\"1\" class=\"dataframe\">\n",
       "  <thead>\n",
       "    <tr style=\"text-align: right;\">\n",
       "      <th></th>\n",
       "      <th>QUOTES</th>\n",
       "      <th>AUTHOR</th>\n",
       "      <th>TYPESOFQUOTES</th>\n",
       "    </tr>\n",
       "  </thead>\n",
       "  <tbody>\n",
       "    <tr>\n",
       "      <th>0</th>\n",
       "      <td>The essence of strategy is choosing what not t...</td>\n",
       "      <td>Michael Porter</td>\n",
       "      <td>Neltje Blanchan</td>\n",
       "    </tr>\n",
       "    <tr>\n",
       "      <th>1</th>\n",
       "      <td>One cannot and must not try to erase the past ...</td>\n",
       "      <td>Golda Meir</td>\n",
       "      <td>Saint Augustine</td>\n",
       "    </tr>\n",
       "    <tr>\n",
       "      <th>2</th>\n",
       "      <td>Patriotism means to stand by the country. It d...</td>\n",
       "      <td>Theodore Roosevelt</td>\n",
       "      <td>Henry Ford</td>\n",
       "    </tr>\n",
       "    <tr>\n",
       "      <th>3</th>\n",
       "      <td>Death is something inevitable. When a man has ...</td>\n",
       "      <td>Nelson Mandela</td>\n",
       "      <td>Arthur Rubinstein</td>\n",
       "    </tr>\n",
       "    <tr>\n",
       "      <th>4</th>\n",
       "      <td>You have to love a nation that celebrates its ...</td>\n",
       "      <td>Erma Bombeck</td>\n",
       "      <td>George Mason</td>\n",
       "    </tr>\n",
       "    <tr>\n",
       "      <th>...</th>\n",
       "      <td>...</td>\n",
       "      <td>...</td>\n",
       "      <td>...</td>\n",
       "    </tr>\n",
       "    <tr>\n",
       "      <th>995</th>\n",
       "      <td>When the going gets weird, the weird turn pro.</td>\n",
       "      <td>Hunter S. Thompson</td>\n",
       "      <td>Jim Rohn</td>\n",
       "    </tr>\n",
       "    <tr>\n",
       "      <th>996</th>\n",
       "      <td>When a train goes through a tunnel and it gets...</td>\n",
       "      <td>Corrie Ten Boom</td>\n",
       "      <td>Henry Ford</td>\n",
       "    </tr>\n",
       "    <tr>\n",
       "      <th>997</th>\n",
       "      <td>If you think you are too small to make a diffe...</td>\n",
       "      <td>Dalai Lama</td>\n",
       "      <td>Robin Williams</td>\n",
       "    </tr>\n",
       "    <tr>\n",
       "      <th>998</th>\n",
       "      <td>God doesn't require us to succeed, he only req...</td>\n",
       "      <td>Mother Teresa</td>\n",
       "      <td>Margaret Walker</td>\n",
       "    </tr>\n",
       "    <tr>\n",
       "      <th>999</th>\n",
       "      <td>Change your thoughts and you change your world.</td>\n",
       "      <td>Norman Vincent Peale</td>\n",
       "      <td>T. Harv Eker</td>\n",
       "    </tr>\n",
       "  </tbody>\n",
       "</table>\n",
       "<p>1000 rows × 3 columns</p>\n",
       "</div>"
      ],
      "text/plain": [
       "                                                QUOTES                AUTHOR  \\\n",
       "0    The essence of strategy is choosing what not t...        Michael Porter   \n",
       "1    One cannot and must not try to erase the past ...            Golda Meir   \n",
       "2    Patriotism means to stand by the country. It d...    Theodore Roosevelt   \n",
       "3    Death is something inevitable. When a man has ...        Nelson Mandela   \n",
       "4    You have to love a nation that celebrates its ...          Erma Bombeck   \n",
       "..                                                 ...                   ...   \n",
       "995     When the going gets weird, the weird turn pro.    Hunter S. Thompson   \n",
       "996  When a train goes through a tunnel and it gets...       Corrie Ten Boom   \n",
       "997  If you think you are too small to make a diffe...            Dalai Lama   \n",
       "998  God doesn't require us to succeed, he only req...         Mother Teresa   \n",
       "999    Change your thoughts and you change your world.  Norman Vincent Peale   \n",
       "\n",
       "         TYPESOFQUOTES  \n",
       "0      Neltje Blanchan  \n",
       "1      Saint Augustine  \n",
       "2           Henry Ford  \n",
       "3    Arthur Rubinstein  \n",
       "4         George Mason  \n",
       "..                 ...  \n",
       "995           Jim Rohn  \n",
       "996         Henry Ford  \n",
       "997     Robin Williams  \n",
       "998    Margaret Walker  \n",
       "999       T. Harv Eker  \n",
       "\n",
       "[1000 rows x 3 columns]"
      ]
     },
     "execution_count": 30,
     "metadata": {},
     "output_type": "execute_result"
    }
   ],
   "source": [
    "import pandas as pd\n",
    "df=pd.DataFrame({'QUOTES':Quotes,'AUTHOR':Author,'TYPESOFQUOTES':Types_of_Quotes})\n",
    "df"
   ]
  },
  {
   "cell_type": "markdown",
   "id": "330baec3",
   "metadata": {},
   "source": [
    "9"
   ]
  },
  {
   "cell_type": "code",
   "execution_count": 384,
   "id": "e7754e49",
   "metadata": {},
   "outputs": [],
   "source": [
    "driver.get(\"https://www.jagranjosh.com/\")"
   ]
  },
  {
   "cell_type": "code",
   "execution_count": 385,
   "id": "d3216088",
   "metadata": {},
   "outputs": [],
   "source": [
    "GK=driver.find_element(By.XPATH,'/html/body/div[1]/header/nav/div/div/div[3]/ul/li[6]/a')\n",
    "GK.click()"
   ]
  },
  {
   "cell_type": "code",
   "execution_count": 386,
   "id": "8c1f00ab",
   "metadata": {},
   "outputs": [
    {
     "ename": "TypeError",
     "evalue": "'WebElement' object is not iterable",
     "output_type": "error",
     "traceback": [
      "\u001b[1;31m---------------------------------------------------------------------------\u001b[0m",
      "\u001b[1;31mTypeError\u001b[0m                                 Traceback (most recent call last)",
      "Cell \u001b[1;32mIn[386], line 5\u001b[0m\n\u001b[0;32m      2\u001b[0m table\u001b[38;5;241m=\u001b[39mdriver\u001b[38;5;241m.\u001b[39mfind_element(By\u001b[38;5;241m.\u001b[39mXPATH,\u001b[38;5;124m'\u001b[39m\u001b[38;5;124m/html/body/div[2]/div[2]/div/div[2]/div/div[1]/div/div/div/div[4]/span/div[3]/table\u001b[39m\u001b[38;5;124m'\u001b[39m)\n\u001b[0;32m      3\u001b[0m rows\u001b[38;5;241m=\u001b[39mtable\u001b[38;5;241m.\u001b[39mfind_element(By\u001b[38;5;241m.\u001b[39mTAG_NAME,(\u001b[38;5;124m'\u001b[39m\u001b[38;5;124mtr\u001b[39m\u001b[38;5;124m'\u001b[39m))\n\u001b[1;32m----> 5\u001b[0m \u001b[38;5;28;01mfor\u001b[39;00m i \u001b[38;5;129;01min\u001b[39;00m rows:\n\u001b[0;32m      6\u001b[0m     cols\u001b[38;5;241m=\u001b[39mrow\u001b[38;5;241m.\u001b[39mfind_elements(By\u001b[38;5;241m.\u001b[39mtag_name(\u001b[38;5;124m'\u001b[39m\u001b[38;5;124mtd\u001b[39m\u001b[38;5;124m'\u001b[39m))\n\u001b[0;32m      8\u001b[0m     \u001b[38;5;28;01mif\u001b[39;00m \u001b[38;5;28mlen\u001b[39m(cols)\u001b[38;5;241m==\u001b[39m\u001b[38;5;241m4\u001b[39m:\n",
      "\u001b[1;31mTypeError\u001b[0m: 'WebElement' object is not iterable"
     ]
    }
   ],
   "source": [
    "data=[]\n",
    "table=driver.find_element(By.XPATH,'/html/body/div[2]/div[2]/div/div[2]/div/div[1]/div/div/div/div[4]/span/div[3]/table')\n",
    "rows=table.find_element(By.TAG_NAME,('tr'))\n",
    "\n",
    "for i in rows:\n",
    "    cols=row.find_elements(By.tag_name('td'))\n",
    "    \n",
    "    if len(cols)==4:\n",
    "        name=cols[0].text\n",
    "        born_dead=cols[1].text\n",
    "        term_of_office=cols[2].text\n",
    "        remarks=cols[3].text\n",
    "        data.append([name,born_dead,term_of_office,remarks])"
   ]
  },
  {
   "cell_type": "code",
   "execution_count": null,
   "id": "ca7ba861",
   "metadata": {},
   "outputs": [],
   "source": []
  },
  {
   "cell_type": "code",
   "execution_count": null,
   "id": "be0aa207",
   "metadata": {},
   "outputs": [],
   "source": []
  },
  {
   "cell_type": "code",
   "execution_count": null,
   "id": "3f2507ec",
   "metadata": {},
   "outputs": [],
   "source": []
  },
  {
   "cell_type": "code",
   "execution_count": null,
   "id": "94e7ac67",
   "metadata": {},
   "outputs": [],
   "source": []
  },
  {
   "cell_type": "code",
   "execution_count": 374,
   "id": "2bcb665c",
   "metadata": {},
   "outputs": [],
   "source": [
    "name=driver.find_elements(By.XPATH,'/html/body/div[2]/div[2]/div/div[2]/div/div[1]/div/div/div/div[4]/span/div[3]/table/tbody/tr[1]/th[2]')\n",
    "for i in name[:18]:\n",
    "    Name=i.text\n",
    "    name.append(Name)"
   ]
  },
  {
   "cell_type": "code",
   "execution_count": 353,
   "id": "5735b091",
   "metadata": {},
   "outputs": [],
   "source": [
    "age=driver.find_elements(By.XPATH,'')\n",
    "for i in age[:18]:\n",
    "    Born_Dead=i.text\n",
    "    age.append(Born_Dead)"
   ]
  },
  {
   "cell_type": "code",
   "execution_count": 354,
   "id": "36ad98cb",
   "metadata": {},
   "outputs": [],
   "source": [
    "termofoffice=driver.find_elements(By.XPATH,'/html/body/div[2]/div[2]/div/div[2]/div/div[1]/div/div/div/div[4]/span/div[3]/table/tbody/tr[1]/th[4]/p/strong')\n",
    "for i in termofoffice[:18]:\n",
    "    Term_of_office=i.text\n",
    "    termofoffice.append(Term_of_office)"
   ]
  },
  {
   "cell_type": "code",
   "execution_count": 355,
   "id": "969dfad8",
   "metadata": {},
   "outputs": [],
   "source": [
    "remark=driver.find_elements(By.XPATH,'/html/body/div[2]/div[2]/div/div[2]/div/div[1]/div/div/div/div[4]/span/div[3]/table/tbody/tr[1]/th[5]/p/strong')\n",
    "for i in remark[:18]:\n",
    "    Remarks=i.text\n",
    "    remark.append(Remarks)"
   ]
  },
  {
   "cell_type": "code",
   "execution_count": 356,
   "id": "3d86058d",
   "metadata": {},
   "outputs": [
    {
     "name": "stdout",
     "output_type": "stream",
     "text": [
      "17 9 14 6\n"
     ]
    }
   ],
   "source": [
    "print(len(Name),len(Born_Dead),len(Term_of_office),len(Remarks))"
   ]
  },
  {
   "cell_type": "code",
   "execution_count": 193,
   "id": "9893c5c4",
   "metadata": {},
   "outputs": [
    {
     "data": {
      "text/html": [
       "<div>\n",
       "<style scoped>\n",
       "    .dataframe tbody tr th:only-of-type {\n",
       "        vertical-align: middle;\n",
       "    }\n",
       "\n",
       "    .dataframe tbody tr th {\n",
       "        vertical-align: top;\n",
       "    }\n",
       "\n",
       "    .dataframe thead th {\n",
       "        text-align: right;\n",
       "    }\n",
       "</style>\n",
       "<table border=\"1\" class=\"dataframe\">\n",
       "  <thead>\n",
       "    <tr style=\"text-align: right;\">\n",
       "      <th></th>\n",
       "      <th>NAME</th>\n",
       "      <th>BORN-DEAD</th>\n",
       "      <th>TERMOFOFFICE</th>\n",
       "      <th>REMARKS</th>\n",
       "    </tr>\n",
       "  </thead>\n",
       "  <tbody>\n",
       "  </tbody>\n",
       "</table>\n",
       "</div>"
      ],
      "text/plain": [
       "Empty DataFrame\n",
       "Columns: [NAME, BORN-DEAD, TERMOFOFFICE, REMARKS]\n",
       "Index: []"
      ]
     },
     "execution_count": 193,
     "metadata": {},
     "output_type": "execute_result"
    }
   ],
   "source": [
    "import pandas as pd\n",
    "df=pd.DataFrame({'NAME':Name,'BORN-DEAD':Born_Dead,'TERMOFOFFICE':Term_of_office,'REMARKS':Remarks})\n",
    "df"
   ]
  },
  {
   "cell_type": "markdown",
   "id": "10bdc9ef",
   "metadata": {},
   "source": [
    "10"
   ]
  },
  {
   "cell_type": "code",
   "execution_count": 387,
   "id": "98defe59",
   "metadata": {},
   "outputs": [],
   "source": [
    "driver.get(\"https://www.motor1.com/\") "
   ]
  },
  {
   "cell_type": "code",
   "execution_count": 388,
   "id": "f22657b2",
   "metadata": {},
   "outputs": [],
   "source": [
    "designation=driver.find_element(By.XPATH,'/html/body/div[10]/div[2]/div/div/div[3]/div/div/div/form/input')\n",
    "designation.send_keys(\"50 most expensive cars\")"
   ]
  },
  {
   "cell_type": "code",
   "execution_count": 389,
   "id": "4d395fb2",
   "metadata": {},
   "outputs": [],
   "source": [
    "search=driver.find_element(By.XPATH,\"/html/body/div[10]/div[2]/div/div/div[3]/div/div/div/form/button[1]\")\n",
    "search.click()"
   ]
  },
  {
   "cell_type": "code",
   "execution_count": 390,
   "id": "f6af47ad",
   "metadata": {},
   "outputs": [],
   "source": [
    "expensivecars=driver.find_element(By.XPATH,'/html/body/div[10]/div[9]/div/div[1]/div/div/div[2]/div/div[1]/h3/a')\n",
    "expensivecars.click()"
   ]
  },
  {
   "cell_type": "code",
   "execution_count": 391,
   "id": "435a15bf",
   "metadata": {},
   "outputs": [],
   "source": [
    "car_names=[]"
   ]
  },
  {
   "cell_type": "code",
   "execution_count": 392,
   "id": "f9fbfeec",
   "metadata": {},
   "outputs": [
    {
     "ename": "AttributeError",
     "evalue": "'str' object has no attribute 'text'",
     "output_type": "error",
     "traceback": [
      "\u001b[1;31m---------------------------------------------------------------------------\u001b[0m",
      "\u001b[1;31mAttributeError\u001b[0m                            Traceback (most recent call last)",
      "Cell \u001b[1;32mIn[392], line 3\u001b[0m\n\u001b[0;32m      1\u001b[0m name\u001b[38;5;241m=\u001b[39mdriver\u001b[38;5;241m.\u001b[39mfind_elements(By\u001b[38;5;241m.\u001b[39mXPATH,\u001b[38;5;124m'\u001b[39m\u001b[38;5;124m//h3[@class=\u001b[39m\u001b[38;5;124m\"\u001b[39m\u001b[38;5;124msubheader\u001b[39m\u001b[38;5;124m\"\u001b[39m\u001b[38;5;124m]\u001b[39m\u001b[38;5;124m'\u001b[39m)\n\u001b[0;32m      2\u001b[0m \u001b[38;5;28;01mfor\u001b[39;00m i \u001b[38;5;129;01min\u001b[39;00m name:\n\u001b[1;32m----> 3\u001b[0m     car_names\u001b[38;5;241m=\u001b[39m\u001b[43mi\u001b[49m\u001b[38;5;241;43m.\u001b[39;49m\u001b[43mtext\u001b[49m\n\u001b[0;32m      4\u001b[0m     name\u001b[38;5;241m.\u001b[39mappend(car_names)\n",
      "\u001b[1;31mAttributeError\u001b[0m: 'str' object has no attribute 'text'"
     ]
    }
   ],
   "source": [
    "name=driver.find_elements(By.XPATH,'//h3[@class=\"subheader\"]')\n",
    "for i in name:\n",
    "    car_names=i.text\n",
    "    name.append(car_names)"
   ]
  },
  {
   "cell_type": "code",
   "execution_count": 370,
   "id": "65fdf1fb",
   "metadata": {},
   "outputs": [
    {
     "ename": "TypeError",
     "evalue": "'WebElement' object is not iterable",
     "output_type": "error",
     "traceback": [
      "\u001b[1;31m---------------------------------------------------------------------------\u001b[0m",
      "\u001b[1;31mTypeError\u001b[0m                                 Traceback (most recent call last)",
      "Cell \u001b[1;32mIn[370], line 6\u001b[0m\n\u001b[0;32m      2\u001b[0m car_prices\u001b[38;5;241m=\u001b[39mdriver\u001b[38;5;241m.\u001b[39mfind_element(By\u001b[38;5;241m.\u001b[39mXPATH,\u001b[38;5;124m'\u001b[39m\u001b[38;5;124m/html/body/div[10]/div[7]/div[2]/div[1]/div[2]/div[2]/p[4]/strong\u001b[39m\u001b[38;5;124m'\u001b[39m)\n\u001b[0;32m      5\u001b[0m data\u001b[38;5;241m=\u001b[39m[]\n\u001b[1;32m----> 6\u001b[0m \u001b[38;5;28;01mfor\u001b[39;00m name,price \u001b[38;5;129;01min\u001b[39;00m \u001b[38;5;28;43mzip\u001b[39;49m\u001b[43m(\u001b[49m\u001b[43mcar_names\u001b[49m\u001b[43m,\u001b[49m\u001b[43mcar_prices\u001b[49m\u001b[43m)\u001b[49m:\n\u001b[0;32m      7\u001b[0m     data\u001b[38;5;241m.\u001b[39mappend([name\u001b[38;5;241m.\u001b[39mtext,price\u001b[38;5;241m.\u001b[39mtext])\n",
      "\u001b[1;31mTypeError\u001b[0m: 'WebElement' object is not iterable"
     ]
    }
   ],
   "source": [
    "car_names=driver.find_elements(By.XPATH,'//h3[@class=\"subheader\"]')\n",
    "\n",
    "\n",
    "car_prices=driver.find_element(By.XPATH,'/html/body/div[10]/div[7]/div[2]/div[1]/div[2]/div[2]/p[4]/strong')\n",
    "\n",
    "\n",
    "data=[]\n",
    "for name,price in zip(car_names,car_prices):\n",
    "    data.append([name.text,price.text])"
   ]
  },
  {
   "cell_type": "code",
   "execution_count": null,
   "id": "0bd928ac",
   "metadata": {},
   "outputs": [],
   "source": []
  },
  {
   "cell_type": "markdown",
   "id": "bb03cd6f",
   "metadata": {},
   "source": [
    "10"
   ]
  },
  {
   "cell_type": "code",
   "execution_count": 535,
   "id": "3184f427",
   "metadata": {},
   "outputs": [],
   "source": [
    "driver.get(\"https://www.motor1.com/\") "
   ]
  },
  {
   "cell_type": "code",
   "execution_count": 536,
   "id": "01359367",
   "metadata": {},
   "outputs": [],
   "source": [
    "search_bar=driver.find_element(By.ID,'search_input')"
   ]
  },
  {
   "cell_type": "code",
   "execution_count": 537,
   "id": "0782dcae",
   "metadata": {},
   "outputs": [],
   "source": [
    "search_bar.send_keys('50 most expensive cars')\n",
    "search_bar.submit()"
   ]
  },
  {
   "cell_type": "code",
   "execution_count": 538,
   "id": "764df4e3",
   "metadata": {},
   "outputs": [],
   "source": [
    "expensivecars=driver.find_element(By.XPATH,'/html/body/div[10]/div[9]/div/div[1]/div/div/div[2]/div/div[1]/h3/a')\n",
    "expensivecars.click()"
   ]
  },
  {
   "cell_type": "code",
   "execution_count": 539,
   "id": "3f75735a",
   "metadata": {},
   "outputs": [],
   "source": [
    "car_names=[]"
   ]
  },
  {
   "cell_type": "code",
   "execution_count": 540,
   "id": "11cf1f38",
   "metadata": {},
   "outputs": [],
   "source": [
    "car_tags=driver.find_elements(By.XPATH,'//h3[@class=\"subheader\"]')\n",
    "for i in car_tags:\n",
    "    car=i.text\n",
    "    car_names.append(car)\n",
    "    \n",
    "    \n"
   ]
  },
  {
   "cell_type": "code",
   "execution_count": 541,
   "id": "c21e9638",
   "metadata": {},
   "outputs": [],
   "source": [
    "pricelist=[]"
   ]
  },
  {
   "cell_type": "code",
   "execution_count": 545,
   "id": "c19375f6",
   "metadata": {},
   "outputs": [],
   "source": [
    "price_tags=driver.find_elements(By.XPATH,'/html/body/div[10]/div[7]/div[2]/div[1]/div[2]/div[2]')\n",
    "for i in price_tags:\n",
    "    price_=i.text\n",
    "    pricelist.append(price_)"
   ]
  },
  {
   "cell_type": "code",
   "execution_count": 546,
   "id": "348c4ec8",
   "metadata": {},
   "outputs": [
    {
     "name": "stdout",
     "output_type": "stream",
     "text": [
      "51 104\n"
     ]
    }
   ],
   "source": [
    "print(len(car_names),len(pricelist))"
   ]
  },
  {
   "cell_type": "code",
   "execution_count": 507,
   "id": "ce921481",
   "metadata": {},
   "outputs": [
    {
     "ename": "ValueError",
     "evalue": "All arrays must be of the same length",
     "output_type": "error",
     "traceback": [
      "\u001b[1;31m---------------------------------------------------------------------------\u001b[0m",
      "\u001b[1;31mValueError\u001b[0m                                Traceback (most recent call last)",
      "Cell \u001b[1;32mIn[507], line 2\u001b[0m\n\u001b[0;32m      1\u001b[0m \u001b[38;5;28;01mimport\u001b[39;00m \u001b[38;5;21;01mpandas\u001b[39;00m \u001b[38;5;28;01mas\u001b[39;00m \u001b[38;5;21;01mpd\u001b[39;00m\n\u001b[1;32m----> 2\u001b[0m df\u001b[38;5;241m=\u001b[39m\u001b[43mpd\u001b[49m\u001b[38;5;241;43m.\u001b[39;49m\u001b[43mDataFrame\u001b[49m\u001b[43m(\u001b[49m\u001b[43m{\u001b[49m\u001b[38;5;124;43m'\u001b[39;49m\u001b[38;5;124;43mCARNAME\u001b[39;49m\u001b[38;5;124;43m'\u001b[39;49m\u001b[43m:\u001b[49m\u001b[43mcar_names\u001b[49m\u001b[43m,\u001b[49m\u001b[38;5;124;43m'\u001b[39;49m\u001b[38;5;124;43mPRICE\u001b[39;49m\u001b[38;5;124;43m'\u001b[39;49m\u001b[43m:\u001b[49m\u001b[43mpricelist\u001b[49m\u001b[43m}\u001b[49m\u001b[43m)\u001b[49m\n\u001b[0;32m      3\u001b[0m df\n",
      "File \u001b[1;32m~\\anaconda3\\lib\\site-packages\\pandas\\core\\frame.py:664\u001b[0m, in \u001b[0;36mDataFrame.__init__\u001b[1;34m(self, data, index, columns, dtype, copy)\u001b[0m\n\u001b[0;32m    658\u001b[0m     mgr \u001b[38;5;241m=\u001b[39m \u001b[38;5;28mself\u001b[39m\u001b[38;5;241m.\u001b[39m_init_mgr(\n\u001b[0;32m    659\u001b[0m         data, axes\u001b[38;5;241m=\u001b[39m{\u001b[38;5;124m\"\u001b[39m\u001b[38;5;124mindex\u001b[39m\u001b[38;5;124m\"\u001b[39m: index, \u001b[38;5;124m\"\u001b[39m\u001b[38;5;124mcolumns\u001b[39m\u001b[38;5;124m\"\u001b[39m: columns}, dtype\u001b[38;5;241m=\u001b[39mdtype, copy\u001b[38;5;241m=\u001b[39mcopy\n\u001b[0;32m    660\u001b[0m     )\n\u001b[0;32m    662\u001b[0m \u001b[38;5;28;01melif\u001b[39;00m \u001b[38;5;28misinstance\u001b[39m(data, \u001b[38;5;28mdict\u001b[39m):\n\u001b[0;32m    663\u001b[0m     \u001b[38;5;66;03m# GH#38939 de facto copy defaults to False only in non-dict cases\u001b[39;00m\n\u001b[1;32m--> 664\u001b[0m     mgr \u001b[38;5;241m=\u001b[39m \u001b[43mdict_to_mgr\u001b[49m\u001b[43m(\u001b[49m\u001b[43mdata\u001b[49m\u001b[43m,\u001b[49m\u001b[43m \u001b[49m\u001b[43mindex\u001b[49m\u001b[43m,\u001b[49m\u001b[43m \u001b[49m\u001b[43mcolumns\u001b[49m\u001b[43m,\u001b[49m\u001b[43m \u001b[49m\u001b[43mdtype\u001b[49m\u001b[38;5;241;43m=\u001b[39;49m\u001b[43mdtype\u001b[49m\u001b[43m,\u001b[49m\u001b[43m \u001b[49m\u001b[43mcopy\u001b[49m\u001b[38;5;241;43m=\u001b[39;49m\u001b[43mcopy\u001b[49m\u001b[43m,\u001b[49m\u001b[43m \u001b[49m\u001b[43mtyp\u001b[49m\u001b[38;5;241;43m=\u001b[39;49m\u001b[43mmanager\u001b[49m\u001b[43m)\u001b[49m\n\u001b[0;32m    665\u001b[0m \u001b[38;5;28;01melif\u001b[39;00m \u001b[38;5;28misinstance\u001b[39m(data, ma\u001b[38;5;241m.\u001b[39mMaskedArray):\n\u001b[0;32m    666\u001b[0m     \u001b[38;5;28;01mimport\u001b[39;00m \u001b[38;5;21;01mnumpy\u001b[39;00m\u001b[38;5;21;01m.\u001b[39;00m\u001b[38;5;21;01mma\u001b[39;00m\u001b[38;5;21;01m.\u001b[39;00m\u001b[38;5;21;01mmrecords\u001b[39;00m \u001b[38;5;28;01mas\u001b[39;00m \u001b[38;5;21;01mmrecords\u001b[39;00m\n",
      "File \u001b[1;32m~\\anaconda3\\lib\\site-packages\\pandas\\core\\internals\\construction.py:493\u001b[0m, in \u001b[0;36mdict_to_mgr\u001b[1;34m(data, index, columns, dtype, typ, copy)\u001b[0m\n\u001b[0;32m    489\u001b[0m     \u001b[38;5;28;01melse\u001b[39;00m:\n\u001b[0;32m    490\u001b[0m         \u001b[38;5;66;03m# dtype check to exclude e.g. range objects, scalars\u001b[39;00m\n\u001b[0;32m    491\u001b[0m         arrays \u001b[38;5;241m=\u001b[39m [x\u001b[38;5;241m.\u001b[39mcopy() \u001b[38;5;28;01mif\u001b[39;00m \u001b[38;5;28mhasattr\u001b[39m(x, \u001b[38;5;124m\"\u001b[39m\u001b[38;5;124mdtype\u001b[39m\u001b[38;5;124m\"\u001b[39m) \u001b[38;5;28;01melse\u001b[39;00m x \u001b[38;5;28;01mfor\u001b[39;00m x \u001b[38;5;129;01min\u001b[39;00m arrays]\n\u001b[1;32m--> 493\u001b[0m \u001b[38;5;28;01mreturn\u001b[39;00m \u001b[43marrays_to_mgr\u001b[49m\u001b[43m(\u001b[49m\u001b[43marrays\u001b[49m\u001b[43m,\u001b[49m\u001b[43m \u001b[49m\u001b[43mcolumns\u001b[49m\u001b[43m,\u001b[49m\u001b[43m \u001b[49m\u001b[43mindex\u001b[49m\u001b[43m,\u001b[49m\u001b[43m \u001b[49m\u001b[43mdtype\u001b[49m\u001b[38;5;241;43m=\u001b[39;49m\u001b[43mdtype\u001b[49m\u001b[43m,\u001b[49m\u001b[43m \u001b[49m\u001b[43mtyp\u001b[49m\u001b[38;5;241;43m=\u001b[39;49m\u001b[43mtyp\u001b[49m\u001b[43m,\u001b[49m\u001b[43m \u001b[49m\u001b[43mconsolidate\u001b[49m\u001b[38;5;241;43m=\u001b[39;49m\u001b[43mcopy\u001b[49m\u001b[43m)\u001b[49m\n",
      "File \u001b[1;32m~\\anaconda3\\lib\\site-packages\\pandas\\core\\internals\\construction.py:118\u001b[0m, in \u001b[0;36marrays_to_mgr\u001b[1;34m(arrays, columns, index, dtype, verify_integrity, typ, consolidate)\u001b[0m\n\u001b[0;32m    115\u001b[0m \u001b[38;5;28;01mif\u001b[39;00m verify_integrity:\n\u001b[0;32m    116\u001b[0m     \u001b[38;5;66;03m# figure out the index, if necessary\u001b[39;00m\n\u001b[0;32m    117\u001b[0m     \u001b[38;5;28;01mif\u001b[39;00m index \u001b[38;5;129;01mis\u001b[39;00m \u001b[38;5;28;01mNone\u001b[39;00m:\n\u001b[1;32m--> 118\u001b[0m         index \u001b[38;5;241m=\u001b[39m \u001b[43m_extract_index\u001b[49m\u001b[43m(\u001b[49m\u001b[43marrays\u001b[49m\u001b[43m)\u001b[49m\n\u001b[0;32m    119\u001b[0m     \u001b[38;5;28;01melse\u001b[39;00m:\n\u001b[0;32m    120\u001b[0m         index \u001b[38;5;241m=\u001b[39m ensure_index(index)\n",
      "File \u001b[1;32m~\\anaconda3\\lib\\site-packages\\pandas\\core\\internals\\construction.py:666\u001b[0m, in \u001b[0;36m_extract_index\u001b[1;34m(data)\u001b[0m\n\u001b[0;32m    664\u001b[0m lengths \u001b[38;5;241m=\u001b[39m \u001b[38;5;28mlist\u001b[39m(\u001b[38;5;28mset\u001b[39m(raw_lengths))\n\u001b[0;32m    665\u001b[0m \u001b[38;5;28;01mif\u001b[39;00m \u001b[38;5;28mlen\u001b[39m(lengths) \u001b[38;5;241m>\u001b[39m \u001b[38;5;241m1\u001b[39m:\n\u001b[1;32m--> 666\u001b[0m     \u001b[38;5;28;01mraise\u001b[39;00m \u001b[38;5;167;01mValueError\u001b[39;00m(\u001b[38;5;124m\"\u001b[39m\u001b[38;5;124mAll arrays must be of the same length\u001b[39m\u001b[38;5;124m\"\u001b[39m)\n\u001b[0;32m    668\u001b[0m \u001b[38;5;28;01mif\u001b[39;00m have_dicts:\n\u001b[0;32m    669\u001b[0m     \u001b[38;5;28;01mraise\u001b[39;00m \u001b[38;5;167;01mValueError\u001b[39;00m(\n\u001b[0;32m    670\u001b[0m         \u001b[38;5;124m\"\u001b[39m\u001b[38;5;124mMixing dicts with non-Series may lead to ambiguous ordering.\u001b[39m\u001b[38;5;124m\"\u001b[39m\n\u001b[0;32m    671\u001b[0m     )\n",
      "\u001b[1;31mValueError\u001b[0m: All arrays must be of the same length"
     ]
    }
   ],
   "source": [
    "import pandas as pd\n",
    "df=pd.DataFrame({'CARNAME':car_names,'PRICE':pricelist})\n",
    "df"
   ]
  },
  {
   "cell_type": "code",
   "execution_count": null,
   "id": "8ee20b81",
   "metadata": {},
   "outputs": [],
   "source": []
  },
  {
   "cell_type": "code",
   "execution_count": null,
   "id": "ec6aa6a3",
   "metadata": {},
   "outputs": [],
   "source": []
  },
  {
   "cell_type": "code",
   "execution_count": null,
   "id": "aa5d1910",
   "metadata": {},
   "outputs": [],
   "source": []
  },
  {
   "cell_type": "code",
   "execution_count": null,
   "id": "6f1eb2e5",
   "metadata": {},
   "outputs": [],
   "source": []
  },
  {
   "cell_type": "code",
   "execution_count": null,
   "id": "080ec1bc",
   "metadata": {},
   "outputs": [],
   "source": []
  },
  {
   "cell_type": "code",
   "execution_count": null,
   "id": "32ec13bf",
   "metadata": {},
   "outputs": [],
   "source": []
  },
  {
   "cell_type": "code",
   "execution_count": null,
   "id": "fe510b48",
   "metadata": {},
   "outputs": [],
   "source": []
  },
  {
   "cell_type": "code",
   "execution_count": null,
   "id": "43ab795f",
   "metadata": {},
   "outputs": [],
   "source": []
  },
  {
   "cell_type": "code",
   "execution_count": null,
   "id": "88812df1",
   "metadata": {},
   "outputs": [],
   "source": []
  },
  {
   "cell_type": "code",
   "execution_count": null,
   "id": "70a30705",
   "metadata": {},
   "outputs": [],
   "source": []
  },
  {
   "cell_type": "code",
   "execution_count": null,
   "id": "23bb2734",
   "metadata": {},
   "outputs": [],
   "source": []
  },
  {
   "cell_type": "code",
   "execution_count": null,
   "id": "681d3840",
   "metadata": {},
   "outputs": [],
   "source": []
  },
  {
   "cell_type": "code",
   "execution_count": null,
   "id": "308cd75e",
   "metadata": {},
   "outputs": [],
   "source": []
  },
  {
   "cell_type": "code",
   "execution_count": null,
   "id": "530a7f43",
   "metadata": {},
   "outputs": [],
   "source": []
  },
  {
   "cell_type": "code",
   "execution_count": null,
   "id": "4c123ef9",
   "metadata": {},
   "outputs": [],
   "source": []
  },
  {
   "cell_type": "code",
   "execution_count": null,
   "id": "3086b3a0",
   "metadata": {},
   "outputs": [],
   "source": []
  },
  {
   "cell_type": "code",
   "execution_count": null,
   "id": "d4fa8b12",
   "metadata": {},
   "outputs": [],
   "source": []
  },
  {
   "cell_type": "code",
   "execution_count": null,
   "id": "d7d0898c",
   "metadata": {},
   "outputs": [],
   "source": []
  },
  {
   "cell_type": "code",
   "execution_count": null,
   "id": "ff39555f",
   "metadata": {},
   "outputs": [],
   "source": []
  },
  {
   "cell_type": "code",
   "execution_count": null,
   "id": "7e136000",
   "metadata": {},
   "outputs": [],
   "source": []
  },
  {
   "cell_type": "code",
   "execution_count": null,
   "id": "24661394",
   "metadata": {},
   "outputs": [],
   "source": []
  },
  {
   "cell_type": "code",
   "execution_count": null,
   "id": "953eb29c",
   "metadata": {},
   "outputs": [],
   "source": []
  },
  {
   "cell_type": "code",
   "execution_count": null,
   "id": "09960ba8",
   "metadata": {},
   "outputs": [],
   "source": []
  },
  {
   "cell_type": "code",
   "execution_count": null,
   "id": "5ba0ea74",
   "metadata": {},
   "outputs": [],
   "source": []
  },
  {
   "cell_type": "code",
   "execution_count": null,
   "id": "6e89228c",
   "metadata": {},
   "outputs": [],
   "source": []
  },
  {
   "cell_type": "code",
   "execution_count": null,
   "id": "355506a2",
   "metadata": {},
   "outputs": [],
   "source": []
  },
  {
   "cell_type": "code",
   "execution_count": null,
   "id": "47bb5913",
   "metadata": {},
   "outputs": [],
   "source": []
  },
  {
   "cell_type": "code",
   "execution_count": null,
   "id": "15b568c4",
   "metadata": {},
   "outputs": [],
   "source": []
  },
  {
   "cell_type": "code",
   "execution_count": null,
   "id": "0d73cbc8",
   "metadata": {},
   "outputs": [],
   "source": []
  },
  {
   "cell_type": "code",
   "execution_count": null,
   "id": "adc65866",
   "metadata": {},
   "outputs": [],
   "source": []
  },
  {
   "cell_type": "code",
   "execution_count": null,
   "id": "08d00dc6",
   "metadata": {},
   "outputs": [],
   "source": []
  },
  {
   "cell_type": "code",
   "execution_count": null,
   "id": "a7227492",
   "metadata": {},
   "outputs": [],
   "source": []
  },
  {
   "cell_type": "code",
   "execution_count": null,
   "id": "dee9f61c",
   "metadata": {},
   "outputs": [],
   "source": []
  },
  {
   "cell_type": "code",
   "execution_count": null,
   "id": "f08872b1",
   "metadata": {},
   "outputs": [],
   "source": []
  },
  {
   "cell_type": "code",
   "execution_count": null,
   "id": "b33c82d3",
   "metadata": {},
   "outputs": [],
   "source": []
  },
  {
   "cell_type": "code",
   "execution_count": null,
   "id": "c197389a",
   "metadata": {},
   "outputs": [],
   "source": []
  },
  {
   "cell_type": "code",
   "execution_count": null,
   "id": "22c8b489",
   "metadata": {},
   "outputs": [],
   "source": []
  },
  {
   "cell_type": "code",
   "execution_count": null,
   "id": "c52b8533",
   "metadata": {},
   "outputs": [],
   "source": []
  },
  {
   "cell_type": "code",
   "execution_count": null,
   "id": "289ba57e",
   "metadata": {},
   "outputs": [],
   "source": [
    "_"
   ]
  },
  {
   "cell_type": "code",
   "execution_count": null,
   "id": "744113aa",
   "metadata": {},
   "outputs": [],
   "source": []
  },
  {
   "cell_type": "code",
   "execution_count": null,
   "id": "17c974b2",
   "metadata": {},
   "outputs": [],
   "source": []
  },
  {
   "cell_type": "code",
   "execution_count": null,
   "id": "8e290305",
   "metadata": {},
   "outputs": [],
   "source": []
  },
  {
   "cell_type": "code",
   "execution_count": null,
   "id": "ccf4e4a0",
   "metadata": {},
   "outputs": [],
   "source": []
  },
  {
   "cell_type": "code",
   "execution_count": null,
   "id": "5fa150ab",
   "metadata": {},
   "outputs": [],
   "source": []
  },
  {
   "cell_type": "code",
   "execution_count": null,
   "id": "f54c24a1",
   "metadata": {},
   "outputs": [],
   "source": []
  },
  {
   "cell_type": "code",
   "execution_count": null,
   "id": "4060517f",
   "metadata": {},
   "outputs": [],
   "source": []
  },
  {
   "cell_type": "code",
   "execution_count": null,
   "id": "4ade53c3",
   "metadata": {},
   "outputs": [],
   "source": []
  },
  {
   "cell_type": "code",
   "execution_count": null,
   "id": "17196cd9",
   "metadata": {},
   "outputs": [],
   "source": []
  },
  {
   "cell_type": "code",
   "execution_count": null,
   "id": "e5c66c21",
   "metadata": {},
   "outputs": [],
   "source": []
  },
  {
   "cell_type": "code",
   "execution_count": null,
   "id": "d123989c",
   "metadata": {},
   "outputs": [],
   "source": []
  },
  {
   "cell_type": "code",
   "execution_count": null,
   "id": "ddb7d7b4",
   "metadata": {},
   "outputs": [],
   "source": []
  },
  {
   "cell_type": "code",
   "execution_count": null,
   "id": "92344e41",
   "metadata": {},
   "outputs": [],
   "source": []
  },
  {
   "cell_type": "code",
   "execution_count": null,
   "id": "9dec1e81",
   "metadata": {},
   "outputs": [],
   "source": []
  },
  {
   "cell_type": "code",
   "execution_count": null,
   "id": "f8cd323f",
   "metadata": {},
   "outputs": [],
   "source": []
  },
  {
   "cell_type": "code",
   "execution_count": null,
   "id": "35dacd49",
   "metadata": {},
   "outputs": [],
   "source": []
  },
  {
   "cell_type": "code",
   "execution_count": null,
   "id": "9368f644",
   "metadata": {},
   "outputs": [],
   "source": []
  },
  {
   "cell_type": "code",
   "execution_count": null,
   "id": "3038cae5",
   "metadata": {},
   "outputs": [],
   "source": []
  },
  {
   "cell_type": "code",
   "execution_count": null,
   "id": "da5af761",
   "metadata": {},
   "outputs": [],
   "source": []
  },
  {
   "cell_type": "code",
   "execution_count": null,
   "id": "9e365e74",
   "metadata": {},
   "outputs": [],
   "source": []
  },
  {
   "cell_type": "code",
   "execution_count": null,
   "id": "8fcfb75c",
   "metadata": {},
   "outputs": [],
   "source": []
  },
  {
   "cell_type": "code",
   "execution_count": null,
   "id": "13735f97",
   "metadata": {},
   "outputs": [],
   "source": []
  },
  {
   "cell_type": "code",
   "execution_count": null,
   "id": "7f42d9fb",
   "metadata": {},
   "outputs": [],
   "source": []
  },
  {
   "cell_type": "code",
   "execution_count": null,
   "id": "eb7b114d",
   "metadata": {},
   "outputs": [],
   "source": []
  },
  {
   "cell_type": "code",
   "execution_count": null,
   "id": "43898fb7",
   "metadata": {},
   "outputs": [],
   "source": []
  },
  {
   "cell_type": "code",
   "execution_count": null,
   "id": "ee615bb1",
   "metadata": {},
   "outputs": [],
   "source": []
  },
  {
   "cell_type": "code",
   "execution_count": null,
   "id": "d99618a7",
   "metadata": {},
   "outputs": [],
   "source": []
  },
  {
   "cell_type": "code",
   "execution_count": null,
   "id": "f1056995",
   "metadata": {},
   "outputs": [],
   "source": []
  },
  {
   "cell_type": "code",
   "execution_count": null,
   "id": "de7b6d14",
   "metadata": {},
   "outputs": [],
   "source": []
  },
  {
   "cell_type": "code",
   "execution_count": null,
   "id": "0db43721",
   "metadata": {},
   "outputs": [],
   "source": []
  },
  {
   "cell_type": "code",
   "execution_count": null,
   "id": "88048803",
   "metadata": {},
   "outputs": [],
   "source": []
  },
  {
   "cell_type": "code",
   "execution_count": null,
   "id": "c0715a4f",
   "metadata": {},
   "outputs": [],
   "source": []
  },
  {
   "cell_type": "code",
   "execution_count": null,
   "id": "2ecd161a",
   "metadata": {},
   "outputs": [],
   "source": []
  },
  {
   "cell_type": "code",
   "execution_count": null,
   "id": "ac46ba3b",
   "metadata": {},
   "outputs": [],
   "source": []
  },
  {
   "cell_type": "code",
   "execution_count": null,
   "id": "a9cfe398",
   "metadata": {},
   "outputs": [],
   "source": []
  },
  {
   "cell_type": "code",
   "execution_count": null,
   "id": "bfab307c",
   "metadata": {},
   "outputs": [],
   "source": []
  },
  {
   "cell_type": "code",
   "execution_count": null,
   "id": "7cc365cf",
   "metadata": {},
   "outputs": [],
   "source": []
  },
  {
   "cell_type": "code",
   "execution_count": null,
   "id": "2d64debd",
   "metadata": {},
   "outputs": [],
   "source": []
  },
  {
   "cell_type": "code",
   "execution_count": null,
   "id": "c2f4aaf1",
   "metadata": {},
   "outputs": [],
   "source": []
  }
 ],
 "metadata": {
  "kernelspec": {
   "display_name": "Python 3 (ipykernel)",
   "language": "python",
   "name": "python3"
  },
  "language_info": {
   "codemirror_mode": {
    "name": "ipython",
    "version": 3
   },
   "file_extension": ".py",
   "mimetype": "text/x-python",
   "name": "python",
   "nbconvert_exporter": "python",
   "pygments_lexer": "ipython3",
   "version": "3.10.9"
  }
 },
 "nbformat": 4,
 "nbformat_minor": 5
}
